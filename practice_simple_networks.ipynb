{
  "nbformat": 4,
  "nbformat_minor": 0,
  "metadata": {
    "colab": {
      "name": "Untitled2.ipynb",
      "provenance": [],
      "collapsed_sections": [],
      "authorship_tag": "ABX9TyNqAUNNsN6ysRm7tHeFhOHP",
      "include_colab_link": true
    },
    "kernelspec": {
      "name": "python3",
      "display_name": "Python 3"
    },
    "language_info": {
      "name": "python"
    }
  },
  "cells": [
    {
      "cell_type": "markdown",
      "metadata": {
        "id": "view-in-github",
        "colab_type": "text"
      },
      "source": [
        "<a href=\"https://colab.research.google.com/github/kotalaraghava/END-2.0---school-of-ai/blob/master/practice_simple_networks.ipynb\" target=\"_parent\"><img src=\"https://colab.research.google.com/assets/colab-badge.svg\" alt=\"Open In Colab\"/></a>"
      ]
    },
    {
      "cell_type": "code",
      "metadata": {
        "id": "f2-2Xoc1l8xW"
      },
      "source": [
        "from sklearn.datasets import make_regression\n",
        "\n",
        "x,y = make_regression(n_samples=1000, n_features=10, n_informative=5, n_targets=3, \n",
        "                      random_state=2)"
      ],
      "execution_count": 1,
      "outputs": []
    },
    {
      "cell_type": "code",
      "metadata": {
        "id": "wgF89hbcuXQ2"
      },
      "source": [
        "import torch"
      ],
      "execution_count": 4,
      "outputs": []
    },
    {
      "cell_type": "code",
      "metadata": {
        "id": "iMZZlezguPMR"
      },
      "source": [
        "x = torch.tensor([[1,2,3,4]])\n",
        "y = torch.tensor([[1,2,2,1]])"
      ],
      "execution_count": 17,
      "outputs": []
    },
    {
      "cell_type": "code",
      "metadata": {
        "colab": {
          "base_uri": "https://localhost:8080/"
        },
        "id": "0eeFQcO_uUcx",
        "outputId": "a1e9e748-5142-43e3-a41c-ab7ea0c33a43"
      },
      "source": [
        "(x == y).sum()"
      ],
      "execution_count": 20,
      "outputs": [
        {
          "output_type": "execute_result",
          "data": {
            "text/plain": [
              "tensor(2)"
            ]
          },
          "metadata": {
            "tags": []
          },
          "execution_count": 20
        }
      ]
    },
    {
      "cell_type": "code",
      "metadata": {
        "colab": {
          "base_uri": "https://localhost:8080/"
        },
        "id": "Tbl_5K2Ime1l",
        "outputId": "191d2689-0e3f-4c0f-d09c-5b853c2434a3"
      },
      "source": [
        "x.shape, y.shape"
      ],
      "execution_count": null,
      "outputs": [
        {
          "output_type": "execute_result",
          "data": {
            "text/plain": [
              "((1000, 10), (1000, 3))"
            ]
          },
          "metadata": {
            "tags": []
          },
          "execution_count": 2
        }
      ]
    },
    {
      "cell_type": "code",
      "metadata": {
        "colab": {
          "base_uri": "https://localhost:8080/"
        },
        "id": "UA5hQSPKmgQf",
        "outputId": "04fce50b-2177-413e-af3f-06d2bf8f0976"
      },
      "source": [
        "type(x), x[0], y[0]"
      ],
      "execution_count": null,
      "outputs": [
        {
          "output_type": "execute_result",
          "data": {
            "text/plain": [
              "(numpy.ndarray,\n",
              " array([-0.99859353,  2.19284309, -0.42632569, -0.21043258, -1.13655612,\n",
              "        -0.55671602, -0.63169045, -0.87625098, -0.99445578, -0.3677487 ]),\n",
              " array([-148.03723474,  -80.63209848,  -91.5736561 ]))"
            ]
          },
          "metadata": {
            "tags": []
          },
          "execution_count": 5
        }
      ]
    },
    {
      "cell_type": "code",
      "metadata": {
        "id": "ugd614U0mmdN"
      },
      "source": [
        "inputs = []\n",
        "outputs = []\n",
        "for i in range(3,1000,2):\n",
        "  i1, i2 = i, i*3\n",
        "  inputs.append([i1,i2])\n",
        "  outputs.append([i1+i2, i1*i2])"
      ],
      "execution_count": null,
      "outputs": []
    },
    {
      "cell_type": "code",
      "metadata": {
        "id": "szq0ihhunDNq"
      },
      "source": [
        "inputs, outputs"
      ],
      "execution_count": null,
      "outputs": []
    },
    {
      "cell_type": "code",
      "metadata": {
        "id": "nEgMcaMVp45p"
      },
      "source": [
        "import numpy as np"
      ],
      "execution_count": null,
      "outputs": []
    },
    {
      "cell_type": "code",
      "metadata": {
        "id": "iW35hbz1qAi-"
      },
      "source": [
        "np.array(inputs)"
      ],
      "execution_count": null,
      "outputs": []
    },
    {
      "cell_type": "code",
      "metadata": {
        "id": "Y-09UmQPqEWg"
      },
      "source": [
        "import torch"
      ],
      "execution_count": null,
      "outputs": []
    },
    {
      "cell_type": "code",
      "metadata": {
        "id": "TRkzP-ArqZSm"
      },
      "source": [
        "X = torch.Tensor(inputs)\n",
        "y = torch.Tensor(outputs)"
      ],
      "execution_count": null,
      "outputs": []
    },
    {
      "cell_type": "code",
      "metadata": {
        "colab": {
          "base_uri": "https://localhost:8080/"
        },
        "id": "YNOnnJ81qdVe",
        "outputId": "32f20e53-cd04-4a1e-da7b-880534b3ddee"
      },
      "source": [
        "X.shape, y.shape"
      ],
      "execution_count": null,
      "outputs": [
        {
          "output_type": "execute_result",
          "data": {
            "text/plain": [
              "(torch.Size([499, 2]), torch.Size([499, 2]))"
            ]
          },
          "metadata": {
            "tags": []
          },
          "execution_count": 44
        }
      ]
    },
    {
      "cell_type": "code",
      "metadata": {
        "id": "8XcbdFi4qdzf"
      },
      "source": [
        "class AddNetwork(torch.nn.Module):\n",
        "\n",
        "  def __init__(self, input_dim=2, output_dim=2):\n",
        "    super(AddNetwork, self).__init__()\n",
        "    self.lin1 = torch.nn.Linear(input_dim, 12)\n",
        "    self.lin2 = torch.nn.Linear(12, output_dim)\n",
        "\n",
        "  def forward(self, x):\n",
        "    x = self.lin1(x)\n",
        "    x = torch.nn.functional.tanh(x)\n",
        "    x = self.lin2(x)\n",
        "    return x"
      ],
      "execution_count": null,
      "outputs": []
    },
    {
      "cell_type": "code",
      "metadata": {
        "colab": {
          "base_uri": "https://localhost:8080/"
        },
        "id": "nEOXya0frNEI",
        "outputId": "76c2f607-47ce-4376-db4a-329372202ece"
      },
      "source": [
        "model = AddNetwork()\n",
        "print(model)"
      ],
      "execution_count": null,
      "outputs": [
        {
          "output_type": "stream",
          "text": [
            "AddNetwork(\n",
            "  (lin1): Linear(in_features=2, out_features=12, bias=True)\n",
            "  (lin2): Linear(in_features=12, out_features=2, bias=True)\n",
            ")\n"
          ],
          "name": "stdout"
        }
      ]
    },
    {
      "cell_type": "code",
      "metadata": {
        "colab": {
          "base_uri": "https://localhost:8080/"
        },
        "id": "vF5qojCurPz6",
        "outputId": "5f666286-7bf9-411f-989e-400a59dc6d12"
      },
      "source": [
        "from torchsummary import summary\n",
        "\n",
        "summary(model, (2,2))"
      ],
      "execution_count": null,
      "outputs": [
        {
          "output_type": "stream",
          "text": [
            "----------------------------------------------------------------\n",
            "        Layer (type)               Output Shape         Param #\n",
            "================================================================\n",
            "            Linear-1                [-1, 2, 12]              36\n",
            "            Linear-2                 [-1, 2, 2]              26\n",
            "================================================================\n",
            "Total params: 62\n",
            "Trainable params: 62\n",
            "Non-trainable params: 0\n",
            "----------------------------------------------------------------\n",
            "Input size (MB): 0.00\n",
            "Forward/backward pass size (MB): 0.00\n",
            "Params size (MB): 0.00\n",
            "Estimated Total Size (MB): 0.00\n",
            "----------------------------------------------------------------\n"
          ],
          "name": "stdout"
        },
        {
          "output_type": "stream",
          "text": [
            "/usr/local/lib/python3.7/dist-packages/torch/nn/functional.py:1698: UserWarning: nn.functional.tanh is deprecated. Use torch.tanh instead.\n",
            "  warnings.warn(\"nn.functional.tanh is deprecated. Use torch.tanh instead.\")\n"
          ],
          "name": "stderr"
        }
      ]
    },
    {
      "cell_type": "code",
      "metadata": {
        "id": "05Kcb9AAreTx"
      },
      "source": [
        "loss_func = torch.nn.L1Loss()\n",
        "\n",
        "optimizer = torch.optim.SGD(model.parameters(), lr=0.2, momentum=0.9)"
      ],
      "execution_count": null,
      "outputs": []
    },
    {
      "cell_type": "code",
      "metadata": {
        "id": "3CAwikOusbqG"
      },
      "source": [
        "\n",
        "import torch\n",
        "from torch.autograd import Variable"
      ],
      "execution_count": null,
      "outputs": []
    },
    {
      "cell_type": "code",
      "metadata": {
        "id": "7qghhaCvr335"
      },
      "source": [
        "epoches = 10\n",
        "steps = X.size(0)\n",
        "\n",
        "for i in range(epoches):\n",
        "  for j in range(steps):\n",
        "    # data_point = np.random.randint(X.size(0))\n",
        "    x_var = Variable(X[j], requires_grad=True)\n",
        "    y_var = Variable(y[j], requires_grad=True)\n",
        "    \n",
        "    optimizer.zero_grad()\n",
        "    y_hat = model(x_var)\n",
        "    print(y_hat, x_var, y_var)\n",
        "    loss = loss_func.forward(y_hat, y_var)\n",
        "    loss.backward()\n",
        "    optimizer.step()\n",
        "        \n",
        "  if i % 50 == 0:\n",
        "    print( \"Epoch: {0}, Loss: {1}, \".format(i, loss.data.numpy()))\n",
        "\n"
      ],
      "execution_count": null,
      "outputs": []
    },
    {
      "cell_type": "code",
      "metadata": {
        "colab": {
          "base_uri": "https://localhost:8080/"
        },
        "id": "G789J0gIsUsB",
        "outputId": "20714530-5644-4d26-9d39-d1e6ee19dfd4"
      },
      "source": [
        "model(torch.Tensor([[1,3], [4,5], [66,7]]))"
      ],
      "execution_count": null,
      "outputs": [
        {
          "output_type": "stream",
          "text": [
            "/usr/local/lib/python3.7/dist-packages/torch/nn/functional.py:1698: UserWarning: nn.functional.tanh is deprecated. Use torch.tanh instead.\n",
            "  warnings.warn(\"nn.functional.tanh is deprecated. Use torch.tanh instead.\")\n"
          ],
          "name": "stderr"
        },
        {
          "output_type": "execute_result",
          "data": {
            "text/plain": [
              "tensor([[  4002.3257, 357515.5938],\n",
              "        [  4002.3315, 357516.3438],\n",
              "        [  4002.3315, 357516.3438]], grad_fn=<AddmmBackward>)"
            ]
          },
          "metadata": {
            "tags": []
          },
          "execution_count": 64
        }
      ]
    },
    {
      "cell_type": "code",
      "metadata": {
        "id": "0XQIArEVsv3b"
      },
      "source": [
        ""
      ],
      "execution_count": null,
      "outputs": []
    }
  ]
}