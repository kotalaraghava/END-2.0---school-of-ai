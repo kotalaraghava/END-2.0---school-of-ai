{
  "nbformat": 4,
  "nbformat_minor": 0,
  "metadata": {
    "orig_nbformat": 2,
    "deepnote": {
      "is_reactive": false
    },
    "deepnote_notebook_id": "d9695b2f-6e47-407f-916b-7b17d4f0810f",
    "deepnote_execution_queue": [],
    "colab": {
      "name": "Session 7.ipynb",
      "provenance": [],
      "include_colab_link": true
    },
    "language_info": {
      "name": "python"
    },
    "kernelspec": {
      "name": "python3",
      "display_name": "Python 3"
    }
  },
  "cells": [
    {
      "cell_type": "markdown",
      "metadata": {
        "id": "view-in-github",
        "colab_type": "text"
      },
      "source": [
        "<a href=\"https://colab.research.google.com/github/kotalaraghava/END-2.0---school-of-ai/blob/master/EPASession7.ipynb\" target=\"_parent\"><img src=\"https://colab.research.google.com/assets/colab-badge.svg\" alt=\"Open In Colab\"/></a>"
      ]
    },
    {
      "cell_type": "code",
      "metadata": {
        "id": "mYJ_tB6XOpKt"
      },
      "source": [
        "def fun():\n",
        "  \"docstring with length of 50\"\n",
        "  pass\n",
        "\n",
        "def func_docstring(fun):\n",
        "  length = 50\n",
        "  def check_docstring_len():\n",
        "    if len(fun.__doc__) > length:\n",
        "      return True\n",
        "    else:\n",
        "      return False\n",
        "  return check_docstring_len"
      ],
      "execution_count": 94,
      "outputs": []
    },
    {
      "cell_type": "code",
      "metadata": {
        "id": "z--95jgoPRKq"
      },
      "source": [
        "fun_r = func_docstring(fun)"
      ],
      "execution_count": 95,
      "outputs": []
    },
    {
      "cell_type": "code",
      "metadata": {
        "id": "lA515C59PV9J",
        "outputId": "b66dfe95-21df-4cf8-a20e-467802663071",
        "colab": {
          "base_uri": "https://localhost:8080/"
        }
      },
      "source": [
        "fun_r()"
      ],
      "execution_count": 96,
      "outputs": [
        {
          "output_type": "execute_result",
          "data": {
            "text/plain": [
              "False"
            ]
          },
          "metadata": {
            "tags": []
          },
          "execution_count": 96
        }
      ]
    },
    {
      "cell_type": "code",
      "metadata": {
        "id": "iUCncSvsR2fG"
      },
      "source": [
        "def fibonacci():\n",
        "  first = 0\n",
        "  secound = 1\n",
        "  def next():\n",
        "    nonlocal first, secound\n",
        "    res = first+secound\n",
        "    first = secound\n",
        "    secound = res\n",
        "    return res\n",
        "  return next"
      ],
      "execution_count": 97,
      "outputs": []
    },
    {
      "cell_type": "code",
      "metadata": {
        "id": "3q52YKS1SxSO"
      },
      "source": [
        "fin = fibonacci()"
      ],
      "execution_count": 98,
      "outputs": []
    },
    {
      "cell_type": "code",
      "metadata": {
        "id": "VDFvQQ25SxQA",
        "outputId": "84a755ad-1d05-4926-8cbc-dee5022513f8",
        "colab": {
          "base_uri": "https://localhost:8080/"
        }
      },
      "source": [
        "fin()"
      ],
      "execution_count": 99,
      "outputs": [
        {
          "output_type": "execute_result",
          "data": {
            "text/plain": [
              "1"
            ]
          },
          "metadata": {
            "tags": []
          },
          "execution_count": 99
        }
      ]
    },
    {
      "cell_type": "code",
      "metadata": {
        "id": "5Gc7eiE1ep-U"
      },
      "source": [
        "def add(a,b):\n",
        "  return a+b\n",
        "def mul(a,b):\n",
        "  return a*b\n",
        "def div(a,b):\n",
        "  return a/b"
      ],
      "execution_count": 100,
      "outputs": []
    },
    {
      "cell_type": "code",
      "metadata": {
        "id": "5kB2gkQneEhu"
      },
      "source": [
        "count_trac =  {}\n",
        "def fun_count(fun):\n",
        "  count = 0\n",
        "  def update(*args, **kwargs):\n",
        "    nonlocal count\n",
        "    count += 1\n",
        "    count_trac[fun.__name__] = count\n",
        "    return fun(*args, **kwargs)\n",
        "  return update"
      ],
      "execution_count": 101,
      "outputs": []
    },
    {
      "cell_type": "code",
      "metadata": {
        "id": "OAYJ_E0LepeY"
      },
      "source": [
        "add_fun = fun_count(add)\n",
        "mul_fun = fun_count(mul)\n",
        "div_fun = fun_count(div)"
      ],
      "execution_count": 102,
      "outputs": []
    },
    {
      "cell_type": "code",
      "metadata": {
        "id": "xi0HPgh7gBCd",
        "outputId": "a4400fd9-90d9-43c8-8b73-059571063f49",
        "colab": {
          "base_uri": "https://localhost:8080/"
        }
      },
      "source": [
        "add_fun(4,5), mul_fun(5,6), div_fun(5,4)"
      ],
      "execution_count": 103,
      "outputs": [
        {
          "output_type": "execute_result",
          "data": {
            "text/plain": [
              "(9, 30, 1.25)"
            ]
          },
          "metadata": {
            "tags": []
          },
          "execution_count": 103
        }
      ]
    },
    {
      "cell_type": "code",
      "metadata": {
        "id": "54-FdknMhiC6"
      },
      "source": [
        "# count_trac =  {}\n",
        "def fun_count(fun, count_trac):\n",
        "  count = 0\n",
        "  def update(*args, **kwargs):\n",
        "    nonlocal count\n",
        "    count += 1\n",
        "    count_trac[fun.__name__] = count\n",
        "    return fun(*args, **kwargs)\n",
        "  return update"
      ],
      "execution_count": 104,
      "outputs": []
    },
    {
      "cell_type": "code",
      "metadata": {
        "id": "QH9V7Ht1hh7C"
      },
      "source": [
        "count_trac_add = {}\n",
        "count_trac_mul = {}\n",
        "count_trac_div = {}\n",
        "add_fun = fun_count(add, count_trac_add)\n",
        "mul_fun = fun_count(mul, count_trac_mul)\n",
        "div_fun = fun_count(div, count_trac_div)"
      ],
      "execution_count": 105,
      "outputs": []
    },
    {
      "cell_type": "code",
      "metadata": {
        "id": "-x7ReemThwS5",
        "outputId": "e839cc53-63f6-4fe3-dab7-81ab977d2ffe",
        "colab": {
          "base_uri": "https://localhost:8080/"
        }
      },
      "source": [
        "add_fun(4,5), mul_fun(5,6), div_fun(5,4)"
      ],
      "execution_count": 106,
      "outputs": [
        {
          "output_type": "execute_result",
          "data": {
            "text/plain": [
              "(9, 30, 1.25)"
            ]
          },
          "metadata": {
            "tags": []
          },
          "execution_count": 106
        }
      ]
    },
    {
      "cell_type": "code",
      "metadata": {
        "id": "VN_qDvkHf98T",
        "outputId": "c32aa11b-86c4-4738-aecc-76f88f9fc5b7",
        "colab": {
          "base_uri": "https://localhost:8080/"
        }
      },
      "source": [
        "count_trac_add, count_trac_div, count_trac_mul"
      ],
      "execution_count": 107,
      "outputs": [
        {
          "output_type": "execute_result",
          "data": {
            "text/plain": [
              "({'add': 1}, {'div': 1}, {'mul': 1})"
            ]
          },
          "metadata": {
            "tags": []
          },
          "execution_count": 107
        }
      ]
    },
    {
      "cell_type": "code",
      "metadata": {
        "id": "rIhymx-ZiWWD",
        "outputId": "cb590b0a-bbcf-45a8-d398-155db812d9f9",
        "colab": {
          "base_uri": "https://localhost:8080/",
          "height": 129
        }
      },
      "source": [
        "import unittest\n",
        "\n",
        "def DocStrinTest(unittest.TestCase):\n",
        "\n",
        "  def __init__(self):\n",
        "    pass\n",
        "\n",
        "  def test_length_of_doc_string(self):\n",
        "    "
      ],
      "execution_count": 108,
      "outputs": [
        {
          "output_type": "error",
          "ename": "SyntaxError",
          "evalue": "ignored",
          "traceback": [
            "\u001b[0;36m  File \u001b[0;32m\"<ipython-input-108-2640ee7d39cd>\"\u001b[0;36m, line \u001b[0;32m3\u001b[0m\n\u001b[0;31m    def DocStrinTest(unittest.TestCase):\u001b[0m\n\u001b[0m                             ^\u001b[0m\n\u001b[0;31mSyntaxError\u001b[0m\u001b[0;31m:\u001b[0m invalid syntax\n"
          ]
        }
      ]
    },
    {
      "cell_type": "code",
      "metadata": {
        "id": "XFhUF1tniWTM"
      },
      "source": [
        ""
      ],
      "execution_count": null,
      "outputs": []
    },
    {
      "cell_type": "code",
      "metadata": {
        "id": "Ih1XImoeiWOm"
      },
      "source": [
        ""
      ],
      "execution_count": null,
      "outputs": []
    }
  ]
}