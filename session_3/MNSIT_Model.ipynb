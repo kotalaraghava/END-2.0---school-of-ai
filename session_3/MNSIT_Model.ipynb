{
  "nbformat": 4,
  "nbformat_minor": 0,
  "metadata": {
    "accelerator": "GPU",
    "colab": {
      "name": "5_6143279572453426035.ipynb",
      "provenance": [],
      "machine_shape": "hm"
    },
    "kernelspec": {
      "display_name": "Python 3",
      "name": "python3"
    },
    "language_info": {
      "name": "python"
    }
  },
  "cells": [
    {
      "cell_type": "markdown",
      "metadata": {
        "id": "CWxvC_yK1RDL"
      },
      "source": [
        "**Imports**"
      ]
    },
    {
      "cell_type": "code",
      "metadata": {
        "id": "S-gTxxe6jYit"
      },
      "source": [
        "from __future__ import print_function\n",
        "import torch\n",
        "import torch.nn as nn\n",
        "import torch.nn.functional as F\n",
        "import torch.optim as optim\n",
        "from torchvision import datasets, transforms\n",
        "from random import randint\n",
        "use_cuda = torch.cuda.is_available()\n",
        "device = torch.device(\"cuda\" if use_cuda else \"cpu\")"
      ],
      "execution_count": 1,
      "outputs": []
    },
    {
      "cell_type": "markdown",
      "metadata": {
        "id": "eYaFjvbw0jnO"
      },
      "source": [
        "**Model**"
      ]
    },
    {
      "cell_type": "code",
      "metadata": {
        "id": "-zwxNmICjby_"
      },
      "source": [
        "dropout_value = 0.05\n",
        "\n",
        "class Net(nn.Module):\n",
        "    def __init__(self):\n",
        "        super(Net, self).__init__()\n",
        "        self.convblock1 = nn.Sequential(\n",
        "            \n",
        "            nn.Conv2d(in_channels=1, out_channels=12, kernel_size=(3, 3), bias=False),\n",
        "            nn.ReLU(),\n",
        "            nn.BatchNorm2d(12),\n",
        "            nn.Dropout(dropout_value), # output_size = 26\n",
        "            \n",
        "        )\n",
        "      \n",
        "\n",
        "        self.convblock2 = nn.Sequential(\n",
        "            \n",
        "            nn.Conv2d(in_channels=12, out_channels=12, kernel_size=(3, 3), bias=False),\n",
        "            nn.ReLU(),\n",
        "            nn.BatchNorm2d(12),\n",
        "            nn.Dropout(dropout_value), #output_size = 24\n",
        "            \n",
        "        )\n",
        "\n",
        "        \n",
        "        self.convblock3 = nn.Sequential(\n",
        "            \n",
        "            nn.Conv2d(in_channels=12, out_channels=12, kernel_size=(3, 3), bias=False),\n",
        "            nn.ReLU(),\n",
        "            nn.BatchNorm2d(12),\n",
        "            nn.Dropout(dropout_value), #output_size = 22\n",
        "            \n",
        "        )\n",
        "\n",
        "        self.pool3 = nn.MaxPool2d(2, 2) # output_size = 11\n",
        "\n",
        "\n",
        "        self.convblock4 = nn.Sequential(\n",
        "          \n",
        "\n",
        "            nn.Conv2d(in_channels=12, out_channels=12, kernel_size=(3, 3), bias=False),\n",
        "            nn.ReLU(),\n",
        "            nn.BatchNorm2d(12),\n",
        "            nn.Dropout(dropout_value), # output_size = 9   \n",
        "        )\n",
        "\n",
        "        \n",
        "\n",
        "        self.convblock5 = nn.Sequential(   \n",
        "            nn.Conv2d(in_channels=12, out_channels=12, kernel_size=(3, 3), bias=False), \n",
        "            nn.ReLU(),\n",
        "            nn.BatchNorm2d(12),\n",
        "            nn.Dropout(dropout_value),  # output_size = 7     \n",
        "            \n",
        "        )\n",
        "\n",
        "        self.convblock6 = nn.Sequential(   \n",
        "            nn.Conv2d(in_channels=12, out_channels=16, kernel_size=(3, 3), bias=False), \n",
        "            nn.ReLU(),\n",
        "            nn.BatchNorm2d(16),\n",
        "            nn.Dropout(dropout_value),   # output_size = 5     \n",
        "            \n",
        "        )\n",
        "\n",
        "        self.convblock7 = nn.Sequential(   \n",
        "            nn.Conv2d(in_channels=16, out_channels=16, kernel_size=(3, 3), padding = 1,bias=False),\n",
        "            nn.ReLU(),\n",
        "            nn.BatchNorm2d(16),\n",
        "            nn.Dropout(dropout_value),       # output_size = 5  \n",
        "            \n",
        "        )\n",
        "\n",
        "        self.gap = nn.Sequential(\n",
        "            nn.AvgPool2d(kernel_size=5) # output_size = 1*1*16\n",
        "        ) \n",
        "\n",
        "\n",
        "        self.convblock8 = nn.Sequential(   \n",
        "            nn.Conv2d(in_channels=16, out_channels=10, kernel_size=(1, 1),bias=False), # output_size = 1 * 1* 10\n",
        "                      \n",
        "        )\n",
        "        self.addition_layer1 = nn.Linear(in_features=2, out_features=10)\n",
        "        self.addition_layer2 = nn.Linear(in_features=10, out_features=10)\n",
        "        self.addition_out_layer = nn.Linear(in_features=10, out_features=1)\n",
        "\n",
        "\n",
        "\n",
        "    def forward(self, x, random_input):\n",
        "\n",
        "        number_result = random_input\n",
        "        x = self.convblock1(x)   \n",
        "        x = self.convblock2(x)\n",
        "        x = self.convblock3(x)\n",
        "        x = self.pool3(x)\n",
        "        x = self.convblock4(x)\n",
        "        x = self.convblock5(x)\n",
        "        x = self.convblock6(x)\n",
        "        x = self.convblock7(x)\n",
        "        x = self.gap(x)\n",
        "        x = self.convblock8(x)\n",
        "        outputImage = x.view(-1, 10)\n",
        "        imageOutput = torch.argmax(outputImage, dim=1)\n",
        "        image_value_and_number  = torch.stack((imageOutput.float(), random_input), dim=1)\n",
        "        addition_result = self.addition_layer1(image_value_and_number)\n",
        "        addition_result = F.relu(addition_result)\n",
        "        addition_result = self.addition_layer2(addition_result)\n",
        "        addition_result = F.relu(addition_result)\n",
        "        addition_result = self.addition_out_layer(addition_result)\n",
        "        return outputImage, addition_result"
      ],
      "execution_count": 2,
      "outputs": []
    },
    {
      "cell_type": "markdown",
      "metadata": {
        "id": "SJzfocgv0Zcu"
      },
      "source": [
        "**Custom Dataset**"
      ]
    },
    {
      "cell_type": "code",
      "metadata": {
        "id": "5OXMyTZenHdx"
      },
      "source": [
        "from torch.utils.data import Dataset\n",
        "\n",
        "class CustomDataSet(Dataset):\n",
        "  def __init__(self, isTrain):\n",
        "    if isTrain:\n",
        "      self.data = datasets.MNIST('./data', train=isTrain, download=True, transform=transforms.Compose([transforms.RandomRotation((-5.0, 5.0), fill=(1,)), transforms.ToTensor(), transforms.Normalize((0.1307,), (0.3081,))]))\n",
        "    else:\n",
        "      self.data = datasets.MNIST('./data', train=isTrain, download=True, transform=transforms.Compose([transforms.ToTensor(), transforms.Normalize((0.1307,), (0.3081,))]))\n",
        "\n",
        "  def __getitem__(self, index):\n",
        "    r = self.data[index]\n",
        "    image, label = r\n",
        "    random_input = torch.tensor(randint(0,9), dtype=torch.float32)    #torch.randint(0, 10, (1,))\n",
        "    random_target = random_input + label\n",
        "    return image, label, random_input, random_target\n",
        "\n",
        "  def __len__(self):\n",
        "    return len(self.data)"
      ],
      "execution_count": 3,
      "outputs": []
    },
    {
      "cell_type": "markdown",
      "metadata": {
        "id": "2g9tUwhP45rD"
      },
      "source": [
        "## Train loader"
      ]
    },
    {
      "cell_type": "code",
      "metadata": {
        "id": "_OrIzu9Eon0V"
      },
      "source": [
        "train_set = CustomDataSet(True)\n",
        "test_set = CustomDataSet(False)\n",
        "\n",
        "torch.manual_seed(1)\n",
        "batch_size = 128\n",
        "\n",
        "kwargs = {'num_workers': 1, 'pin_memory': True} if use_cuda else {}\n",
        "train_loader = torch.utils.data.DataLoader(train_set,batch_size=batch_size, shuffle=True, **kwargs)\n",
        "test_loader = torch.utils.data.DataLoader(test_set, batch_size=batch_size, shuffle=True, **kwargs)\n",
        "\n"
      ],
      "execution_count": 4,
      "outputs": []
    },
    {
      "cell_type": "markdown",
      "metadata": {
        "id": "0kI9kvvJ5-xa"
      },
      "source": [
        "## Train and Test Functions"
      ]
    },
    {
      "cell_type": "code",
      "metadata": {
        "id": "F1OooJwAjtc3"
      },
      "source": [
        "from tqdm import tqdm\n",
        "# mse_loss = nn.MSELoss()\n",
        "# cross_entropy = nn.CrossEntropyLoss()\n",
        "\n",
        "def train(model, device, train_loader, optimizer, epoch):\n",
        "    model.train()\n",
        "    # pbar = tqdm(train_loader)\n",
        "    correct = 0\n",
        "    processed = 0\n",
        "    correct_addition = 0\n",
        "    for batch_idx, (data, target,random_input, random_target) in enumerate(train_loader):\n",
        "        data, target, random_input, random_target = data.to(device), target.to(device), random_input.to(device), random_target.to(device).reshape(-1,1)\n",
        "        optimizer.zero_grad()\n",
        "        output, number_output = model(data, random_input)\n",
        "        loss = F.cross_entropy(output, target)\n",
        "        loss_l1 = F.mse_loss(number_output, random_target)\n",
        "\n",
        "        loss = loss + loss_l1\n",
        "\n",
        "        loss.backward()\n",
        "        optimizer.step()\n",
        "        pred = output.argmax(dim=1, keepdim=True)  # get the index of the max log-probability\n",
        "        correct += pred.eq(target.view_as(pred)).sum().item()\n",
        "        processed += len(data)\n",
        "        correct_addition += (torch.round(number_output) == torch.round(random_target)).sum().item()\n",
        "    print(f'loss={loss.item()} batch_id={batch_idx} Accuracy of Image={100*correct/processed}, Accuracy of addition={100*correct_addition/processed}, correct: {(torch.round(number_output) == torch.round(random_target)).sum().item()}')\n",
        "   \n",
        "\n",
        "def test(model, device, test_loader):\n",
        "    model.eval()\n",
        "    test_loss = 0\n",
        "    correct = 0\n",
        "    correct_addition = 0\n",
        "    with torch.no_grad():\n",
        "        for data, target, random_input, random_target in test_loader:\n",
        "            data, target, random_input, random_target = data.to(device), target.to(device), random_input.to(device), random_target.to(device).reshape(-1,1)\n",
        "            output, number_output = model(data, random_input)\n",
        "            loss1 = F.cross_entropy(output, target)  # sum up batch loss\n",
        "            loss_f1 = F.mse_loss(number_output, random_target)\n",
        "            test_loss = loss1 + loss_f1\n",
        "            pred = output.argmax(dim=1, keepdim=True)  # get the index of the max log-probability\n",
        "            correct += pred.eq(target.view_as(pred)).sum().item()\n",
        "            correct_addition += (torch.round(number_output) == torch.round(random_target)).sum().item()\n",
        "\n",
        "    test_loss /= len(test_loader.dataset)\n",
        "\n",
        "    print('\\nTest set: Average loss: {:.4f}, Accuracy: {}/{} ({:.2f}%)'.format(\n",
        "        test_loss, correct, len(test_loader.dataset),\n",
        "        100. * correct / len(test_loader.dataset)))\n",
        "    print(f'Test addition accuracy {100 * correct_addition/len(test_loader.dataset)}')"
      ],
      "execution_count": 5,
      "outputs": []
    },
    {
      "cell_type": "markdown",
      "metadata": {
        "id": "wGQI0OxR6ELS"
      },
      "source": [
        "## Running Epochs"
      ]
    },
    {
      "cell_type": "code",
      "metadata": {
        "colab": {
          "base_uri": "https://localhost:8080/"
        },
        "id": "hNoODT3yjxxS",
        "outputId": "b64fc67d-3924-44ef-c2e4-9491031a8af0"
      },
      "source": [
        "model = Net().to(device)\n",
        "optimizer = optim.SGD(model.parameters(), lr=0.001, momentum=0.9)\n",
        "\n",
        "for epoch in range(1, 11):\n",
        "    print(\"EPOCH:\", epoch)\n",
        "    train(model, device, train_loader, optimizer, epoch)\n",
        "    test(model, device, test_loader)\n",
        "    print('------------------------------------------')"
      ],
      "execution_count": 6,
      "outputs": [
        {
          "output_type": "stream",
          "text": [
            "EPOCH: 1\n",
            "loss=2.713313579559326 batch_id=468 Accuracy of Image=64.36333333333333, Accuracy of addition=32.623333333333335, correct: 74\n",
            "\n",
            "Test set: Average loss: 0.0002, Accuracy: 9032/10000 (90.32%)\n",
            "Test addition accuracy 76.99\n",
            "------------------------------------------\n",
            "EPOCH: 2\n",
            "loss=1.3862565755844116 batch_id=468 Accuracy of Image=92.385, Accuracy of addition=82.82833333333333, correct: 91\n",
            "\n",
            "Test set: Average loss: 0.0000, Accuracy: 9566/10000 (95.66%)\n",
            "Test addition accuracy 94.59\n",
            "------------------------------------------\n",
            "EPOCH: 3\n",
            "loss=0.8967388868331909 batch_id=468 Accuracy of Image=95.44833333333334, Accuracy of addition=92.77166666666666, correct: 95\n",
            "\n",
            "Test set: Average loss: 0.0003, Accuracy: 9700/10000 (97.00%)\n",
            "Test addition accuracy 96.21\n",
            "------------------------------------------\n",
            "EPOCH: 4\n",
            "loss=1.1559326648712158 batch_id=468 Accuracy of Image=96.57, Accuracy of addition=94.73, correct: 89\n",
            "\n",
            "Test set: Average loss: 0.0003, Accuracy: 9785/10000 (97.85%)\n",
            "Test addition accuracy 96.96\n",
            "------------------------------------------\n",
            "EPOCH: 5\n",
            "loss=0.17409054934978485 batch_id=468 Accuracy of Image=97.28333333333333, Accuracy of addition=95.95166666666667, correct: 94\n",
            "\n",
            "Test set: Average loss: 0.0003, Accuracy: 9819/10000 (98.19%)\n",
            "Test addition accuracy 97.19\n",
            "------------------------------------------\n",
            "EPOCH: 6\n",
            "loss=0.850662350654602 batch_id=468 Accuracy of Image=97.56333333333333, Accuracy of addition=96.41166666666666, correct: 91\n",
            "\n",
            "Test set: Average loss: 0.0002, Accuracy: 9830/10000 (98.30%)\n",
            "Test addition accuracy 97.36\n",
            "------------------------------------------\n",
            "EPOCH: 7\n",
            "loss=0.7392945885658264 batch_id=468 Accuracy of Image=97.705, Accuracy of addition=96.55333333333333, correct: 91\n",
            "\n",
            "Test set: Average loss: 0.0000, Accuracy: 9836/10000 (98.36%)\n",
            "Test addition accuracy 97.28\n",
            "------------------------------------------\n",
            "EPOCH: 8\n",
            "loss=0.3155137896537781 batch_id=468 Accuracy of Image=97.965, Accuracy of addition=97.0, correct: 92\n",
            "\n",
            "Test set: Average loss: 0.0000, Accuracy: 9850/10000 (98.50%)\n",
            "Test addition accuracy 97.52\n",
            "------------------------------------------\n",
            "EPOCH: 9\n",
            "loss=1.04311203956604 batch_id=468 Accuracy of Image=98.08, Accuracy of addition=96.86166666666666, correct: 92\n",
            "\n",
            "Test set: Average loss: 0.0000, Accuracy: 9867/10000 (98.67%)\n",
            "Test addition accuracy 97.73\n",
            "------------------------------------------\n",
            "EPOCH: 10\n",
            "loss=0.08777190744876862 batch_id=468 Accuracy of Image=98.19166666666666, Accuracy of addition=97.21333333333334, correct: 95\n",
            "\n",
            "Test set: Average loss: 0.0000, Accuracy: 9873/10000 (98.73%)\n",
            "Test addition accuracy 97.62\n",
            "------------------------------------------\n"
          ],
          "name": "stdout"
        }
      ]
    },
    {
      "cell_type": "code",
      "metadata": {
        "id": "GPQSndXX_MZG"
      },
      "source": [
        ""
      ],
      "execution_count": 6,
      "outputs": []
    }
  ]
}