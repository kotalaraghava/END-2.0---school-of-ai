{
  "nbformat": 4,
  "nbformat_minor": 0,
  "metadata": {
    "colab": {
      "name": "tweets-5.ipynb",
      "provenance": [],
      "collapsed_sections": [],
      "machine_shape": "hm",
      "include_colab_link": true
    },
    "kernelspec": {
      "name": "python3",
      "display_name": "Python 3"
    },
    "accelerator": "GPU"
  },
  "cells": [
    {
      "cell_type": "markdown",
      "metadata": {
        "id": "view-in-github",
        "colab_type": "text"
      },
      "source": [
        "<a href=\"https://colab.research.google.com/github/kotalaraghava/END-2.0---school-of-ai/blob/master/Session6Assignment.ipynb\" target=\"_parent\"><img src=\"https://colab.research.google.com/assets/colab-badge.svg\" alt=\"Open In Colab\"/></a>"
      ]
    },
    {
      "cell_type": "markdown",
      "metadata": {
        "id": "GYiRsFGD6iUC"
      },
      "source": [
        "# 0 TorchText"
      ]
    },
    {
      "cell_type": "code",
      "metadata": {
        "colab": {
          "base_uri": "https://localhost:8080/"
        },
        "id": "eLRahGbYMIge",
        "outputId": "72527ef6-7b61-432c-ea83-0095ab4e49ae"
      },
      "source": [
        "from google.colab import drive\n",
        "drive.mount('/content/drive')"
      ],
      "execution_count": 100,
      "outputs": [
        {
          "output_type": "stream",
          "text": [
            "Drive already mounted at /content/drive; to attempt to forcibly remount, call drive.mount(\"/content/drive\", force_remount=True).\n"
          ],
          "name": "stdout"
        }
      ]
    },
    {
      "cell_type": "markdown",
      "metadata": {
        "id": "tp5IzBGsPGHs"
      },
      "source": [
        "## Dataset Preview\n",
        "\n",
        "Your first step to deep learning in NLP. We will be mostly using PyTorch. Just like torchvision, PyTorch provides an official library, torchtext, for handling text-processing pipelines. \n",
        "\n",
        "We will be using previous session tweet dataset. Let's just preview the dataset."
      ]
    },
    {
      "cell_type": "code",
      "metadata": {
        "id": "o1-Yz-5RRFYc",
        "colab": {
          "base_uri": "https://localhost:8080/",
          "height": 204
        },
        "outputId": "ddeac374-0079-4d98-ab35-ffb3fdb1eded"
      },
      "source": [
        "import pandas as pd\n",
        "df = pd.read_csv('drive/MyDrive/ai/data/tweets.csv')\n",
        "df.head()"
      ],
      "execution_count": 101,
      "outputs": [
        {
          "output_type": "execute_result",
          "data": {
            "text/html": [
              "<div>\n",
              "<style scoped>\n",
              "    .dataframe tbody tr th:only-of-type {\n",
              "        vertical-align: middle;\n",
              "    }\n",
              "\n",
              "    .dataframe tbody tr th {\n",
              "        vertical-align: top;\n",
              "    }\n",
              "\n",
              "    .dataframe thead th {\n",
              "        text-align: right;\n",
              "    }\n",
              "</style>\n",
              "<table border=\"1\" class=\"dataframe\">\n",
              "  <thead>\n",
              "    <tr style=\"text-align: right;\">\n",
              "      <th></th>\n",
              "      <th>tweets</th>\n",
              "      <th>labels</th>\n",
              "    </tr>\n",
              "  </thead>\n",
              "  <tbody>\n",
              "    <tr>\n",
              "      <th>0</th>\n",
              "      <td>Obama has called the GOP budget social Darwini...</td>\n",
              "      <td>1</td>\n",
              "    </tr>\n",
              "    <tr>\n",
              "      <th>1</th>\n",
              "      <td>In his teen years, Obama has been known to use...</td>\n",
              "      <td>0</td>\n",
              "    </tr>\n",
              "    <tr>\n",
              "      <th>2</th>\n",
              "      <td>IPA Congratulates President Barack Obama for L...</td>\n",
              "      <td>0</td>\n",
              "    </tr>\n",
              "    <tr>\n",
              "      <th>3</th>\n",
              "      <td>RT @Professor_Why: #WhatsRomneyHiding - his co...</td>\n",
              "      <td>0</td>\n",
              "    </tr>\n",
              "    <tr>\n",
              "      <th>4</th>\n",
              "      <td>RT @wardollarshome: Obama has approved more ta...</td>\n",
              "      <td>1</td>\n",
              "    </tr>\n",
              "  </tbody>\n",
              "</table>\n",
              "</div>"
            ],
            "text/plain": [
              "                                              tweets  labels\n",
              "0  Obama has called the GOP budget social Darwini...       1\n",
              "1  In his teen years, Obama has been known to use...       0\n",
              "2  IPA Congratulates President Barack Obama for L...       0\n",
              "3  RT @Professor_Why: #WhatsRomneyHiding - his co...       0\n",
              "4  RT @wardollarshome: Obama has approved more ta...       1"
            ]
          },
          "metadata": {
            "tags": []
          },
          "execution_count": 101
        }
      ]
    },
    {
      "cell_type": "code",
      "metadata": {
        "id": "R7JdpCW-YbAG",
        "colab": {
          "base_uri": "https://localhost:8080/"
        },
        "outputId": "3554ca89-393d-4be2-a2f6-4552d5b3625c"
      },
      "source": [
        "df.shape"
      ],
      "execution_count": 102,
      "outputs": [
        {
          "output_type": "execute_result",
          "data": {
            "text/plain": [
              "(1364, 2)"
            ]
          },
          "metadata": {
            "tags": []
          },
          "execution_count": 102
        }
      ]
    },
    {
      "cell_type": "code",
      "metadata": {
        "id": "zqRsoF6xYdgl",
        "colab": {
          "base_uri": "https://localhost:8080/"
        },
        "outputId": "0ac37ebe-720b-402e-b10d-dfec46f81c6c"
      },
      "source": [
        "df.labels.value_counts()"
      ],
      "execution_count": 103,
      "outputs": [
        {
          "output_type": "execute_result",
          "data": {
            "text/plain": [
              "0    931\n",
              "1    352\n",
              "2     81\n",
              "Name: labels, dtype: int64"
            ]
          },
          "metadata": {
            "tags": []
          },
          "execution_count": 103
        }
      ]
    },
    {
      "cell_type": "markdown",
      "metadata": {
        "id": "XJ6o_79ISSVb"
      },
      "source": [
        "## Defining Fields"
      ]
    },
    {
      "cell_type": "markdown",
      "metadata": {
        "id": "e63g08ijOrf7"
      },
      "source": [
        "Now we shall be defining LABEL as a LabelField, which is a subclass of Field that sets sequen tial to False (as it’s our numerical category class). TWEET is a standard Field object, where we have decided to use the spaCy tokenizer and convert all the text to lower‐ case."
      ]
    },
    {
      "cell_type": "code",
      "metadata": {
        "id": "qk8IP4SK1Lrp",
        "colab": {
          "base_uri": "https://localhost:8080/"
        },
        "outputId": "4b205025-4fd0-4b28-d793-aa4c909fed55"
      },
      "source": [
        "# Import Library\n",
        "import random\n",
        "import torch, torchtext\n",
        "# from torchtext import data \n",
        "from torchtext.legacy import data \n",
        "\n",
        "# Manual Seed\n",
        "SEED = 43\n",
        "torch.manual_seed(SEED)"
      ],
      "execution_count": 104,
      "outputs": [
        {
          "output_type": "execute_result",
          "data": {
            "text/plain": [
              "<torch._C.Generator at 0x7faaa9a50290>"
            ]
          },
          "metadata": {
            "tags": []
          },
          "execution_count": 104
        }
      ]
    },
    {
      "cell_type": "code",
      "metadata": {
        "id": "u6bKQax2Mf_U"
      },
      "source": [
        "Tweet = data.Field(sequential = True, tokenize = 'spacy', batch_first =True, include_lengths=True, init_token='<sos>', eos_token='<eos>')\n",
        "Label = data.LabelField(tokenize ='spacy', is_target=True, batch_first =True, sequential =False)"
      ],
      "execution_count": 105,
      "outputs": []
    },
    {
      "cell_type": "markdown",
      "metadata": {
        "id": "_2nfZ3bG7IAQ"
      },
      "source": [
        ""
      ]
    },
    {
      "cell_type": "markdown",
      "metadata": {
        "id": "mX-lYIe_O7Vy"
      },
      "source": [
        "Having defined those fields, we now need to produce a list that maps them onto the list of rows that are in the CSV:"
      ]
    },
    {
      "cell_type": "code",
      "metadata": {
        "id": "VawdWq36O6td"
      },
      "source": [
        "fields = [('tweets', Tweet),('labels',Label)]"
      ],
      "execution_count": 106,
      "outputs": []
    },
    {
      "cell_type": "markdown",
      "metadata": {
        "id": "ZbtZ-Ph2P1xL"
      },
      "source": [
        "Armed with our declared fields, lets convert from pandas to list to torchtext. We could also use TabularDataset to apply that definition to the CSV directly but showing an alternative approach too."
      ]
    },
    {
      "cell_type": "code",
      "metadata": {
        "id": "L3OLcJ5B7rHz"
      },
      "source": [
        "example = [data.Example.fromlist([df.tweets[i],df.labels[i]], fields) for i in range(df.shape[0])] "
      ],
      "execution_count": 107,
      "outputs": []
    },
    {
      "cell_type": "code",
      "metadata": {
        "id": "nT-flpH-P1cd"
      },
      "source": [
        "# Creating dataset\n",
        "#twitterDataset = data.TabularDataset(path=\"tweets.csv\", format=\"CSV\", fields=fields, skip_header=True)\n",
        "\n",
        "twitterDataset = data.Dataset(example, fields)"
      ],
      "execution_count": 108,
      "outputs": []
    },
    {
      "cell_type": "markdown",
      "metadata": {
        "id": "g6ZnyCPaR08F"
      },
      "source": [
        "Finally, we can split into training, testing, and validation sets by using the split() method:"
      ]
    },
    {
      "cell_type": "code",
      "metadata": {
        "id": "uPYXyuKhRpBk"
      },
      "source": [
        "(train, valid) = twitterDataset.split(split_ratio=[0.85, 0.15], random_state=random.seed(SEED))"
      ],
      "execution_count": 109,
      "outputs": []
    },
    {
      "cell_type": "markdown",
      "metadata": {
        "id": "gpmKkoIO8vEO"
      },
      "source": [
        ""
      ]
    },
    {
      "cell_type": "code",
      "metadata": {
        "id": "ykvsCGQMR6UD",
        "colab": {
          "base_uri": "https://localhost:8080/"
        },
        "outputId": "c8f0c861-5c09-4b1c-b6b7-c30ca5c8f770"
      },
      "source": [
        "(len(train), len(valid))"
      ],
      "execution_count": 110,
      "outputs": [
        {
          "output_type": "execute_result",
          "data": {
            "text/plain": [
              "(1159, 205)"
            ]
          },
          "metadata": {
            "tags": []
          },
          "execution_count": 110
        }
      ]
    },
    {
      "cell_type": "markdown",
      "metadata": {
        "id": "kix8P2IKSBaV"
      },
      "source": [
        "An example from the dataset:"
      ]
    },
    {
      "cell_type": "code",
      "metadata": {
        "id": "dUpEOQruR9JL",
        "colab": {
          "base_uri": "https://localhost:8080/"
        },
        "outputId": "5906e5c1-756d-4ad8-d664-753c3160457c"
      },
      "source": [
        "vars(train.examples[10])"
      ],
      "execution_count": 111,
      "outputs": [
        {
          "output_type": "execute_result",
          "data": {
            "text/plain": [
              "{'labels': 0,\n",
              " 'tweets': ['Obama',\n",
              "  ',',\n",
              "  'Romney',\n",
              "  'agree',\n",
              "  ':',\n",
              "  'Admit',\n",
              "  'women',\n",
              "  'to',\n",
              "  'Augusta',\n",
              "  'golf',\n",
              "  'club',\n",
              "  ':',\n",
              "  'US',\n",
              "  'President',\n",
              "  'Barack',\n",
              "  'Obama',\n",
              "  'believes',\n",
              "  'women',\n",
              "  'should',\n",
              "  'be',\n",
              "  'allowe',\n",
              "  '...',\n",
              "  'http://t.co/PVKrepqI']}"
            ]
          },
          "metadata": {
            "tags": []
          },
          "execution_count": 111
        }
      ]
    },
    {
      "cell_type": "markdown",
      "metadata": {
        "id": "AKdllP3FST4N"
      },
      "source": [
        "## Building Vocabulary"
      ]
    },
    {
      "cell_type": "markdown",
      "metadata": {
        "id": "SuvWQ-SpSmSz"
      },
      "source": [
        "At this point we would have built a one-hot encoding of each word that is present in the dataset—a rather tedious process. Thankfully, torchtext will do this for us, and will also allow a max_size parameter to be passed in to limit the vocabu‐ lary to the most common words. This is normally done to prevent the construction of a huge, memory-hungry model. We don’t want our GPUs too overwhelmed, after all. \n",
        "\n",
        "Let’s limit the vocabulary to a maximum of 5000 words in our training set:\n"
      ]
    },
    {
      "cell_type": "code",
      "metadata": {
        "id": "mx955u93SGeY"
      },
      "source": [
        "Tweet.build_vocab(train)\n",
        "Label.build_vocab(train)"
      ],
      "execution_count": 112,
      "outputs": []
    },
    {
      "cell_type": "markdown",
      "metadata": {
        "id": "xvyEeEjXTGhX"
      },
      "source": [
        "By default, torchtext will add two more special tokens, <unk> for unknown words and <pad>, a padding token that will be used to pad all our text to roughly the same size to help with efficient batching on the GPU."
      ]
    },
    {
      "cell_type": "code",
      "metadata": {
        "id": "rA3tIESdcJdN",
        "colab": {
          "base_uri": "https://localhost:8080/"
        },
        "outputId": "8474df1a-f81f-4669-dbc2-d8a5822188c8"
      },
      "source": [
        "print('Size of input vocab : ', len(Tweet.vocab))\n",
        "print('Size of label vocab : ', len(Label.vocab))\n",
        "print('Top 10 words appreared repeatedly :', list(Tweet.vocab.freqs.most_common(10)))\n",
        "print('Labels : ', Label.vocab.stoi)"
      ],
      "execution_count": 113,
      "outputs": [
        {
          "output_type": "stream",
          "text": [
            "Size of input vocab :  4653\n",
            "Size of label vocab :  3\n",
            "Top 10 words appreared repeatedly : [('Obama', 1069), (':', 783), ('#', 780), ('.', 761), (',', 598), ('\"', 550), ('the', 542), ('RT', 516), ('?', 419), ('to', 400)]\n",
            "Labels :  defaultdict(None, {0: 0, 1: 1, 2: 2})\n"
          ],
          "name": "stdout"
        }
      ]
    },
    {
      "cell_type": "markdown",
      "metadata": {
        "id": "rwjD2-ebTeUX"
      },
      "source": [
        "**Lots of stopwords!!**"
      ]
    },
    {
      "cell_type": "markdown",
      "metadata": {
        "id": "sLWW221gTpNs"
      },
      "source": [
        "Now we need to create a data loader to feed into our training loop. Torchtext provides the BucketIterator method that will produce what it calls a Batch, which is almost, but not quite, like the data loader we used on images."
      ]
    },
    {
      "cell_type": "markdown",
      "metadata": {
        "id": "EQqMhMoDUDmn"
      },
      "source": [
        "But at first declare the device we are using."
      ]
    },
    {
      "cell_type": "code",
      "metadata": {
        "id": "Zfo2QhGJUK4l"
      },
      "source": [
        "device = torch.device(\"cuda\" if torch.cuda.is_available() else \"cpu\")"
      ],
      "execution_count": 114,
      "outputs": []
    },
    {
      "cell_type": "code",
      "metadata": {
        "id": "zK2ORoqdTNsM"
      },
      "source": [
        "train_iterator, valid_iterator = data.BucketIterator.splits((train, valid), batch_size = 32, \n",
        "                                                            sort_key = lambda x: len(x.tweets),\n",
        "                                                            sort_within_batch=True, device = device)"
      ],
      "execution_count": 115,
      "outputs": []
    },
    {
      "cell_type": "markdown",
      "metadata": {
        "id": "Gg7gTFQO4fby"
      },
      "source": [
        "Save the vocabulary for later use"
      ]
    },
    {
      "cell_type": "code",
      "metadata": {
        "id": "niE9Cc6-2bD_"
      },
      "source": [
        "import os, pickle\n",
        "import pdb\n",
        "with open('tokenizer.pkl', 'wb') as tokens: \n",
        "    pickle.dump(Tweet.vocab.stoi, tokens)"
      ],
      "execution_count": 116,
      "outputs": []
    },
    {
      "cell_type": "markdown",
      "metadata": {
        "id": "1AbsQwqkVyAy"
      },
      "source": [
        "## Defining Our Model"
      ]
    },
    {
      "cell_type": "markdown",
      "metadata": {
        "id": "E4PED4HJWH4t"
      },
      "source": [
        "We use the Embedding and LSTM modules in PyTorch to build a simple model for classifying tweets.\n",
        "\n",
        "In this model we create three layers. \n",
        "1. First, the words in our tweets are pushed into an Embedding layer, which we have established as a 300-dimensional vector embedding. \n",
        "2. That’s then fed into a 2 stacked-LSTMs with 100 hidden features (again, we’re compressing down from the 300-dimensional input like we did with images). We are using 2 LSTMs for using the dropout.\n",
        "3. Finally, the output of the LSTM (the final hidden state after processing the incoming tweet) is pushed through a standard fully connected layer with three outputs to correspond to our three possible classes (negative, positive, or neutral)."
      ]
    },
    {
      "cell_type": "markdown",
      "metadata": {
        "id": "6K2_rroNE7eV"
      },
      "source": [
        "**Encoder**"
      ]
    },
    {
      "cell_type": "code",
      "metadata": {
        "id": "LwyJA4z4FAQS"
      },
      "source": [
        "import torch.nn as nn\n",
        "import torch.nn.functional as F\n",
        "\n",
        "class Encoder(nn.Module):\n",
        "    def __init__(self, vocab_size, embedding_dim, hidden_dim, n_layers, dropout):\n",
        "        super().__init__()\n",
        "\n",
        "        # Embedding layer\n",
        "        self.embedding = nn.Embedding(vocab_size, embedding_dim)\n",
        "        \n",
        "         # LSTM layer\n",
        "        self.encoder = nn.LSTM(embedding_dim, \n",
        "                           hidden_dim, \n",
        "                           num_layers=n_layers, \n",
        "                           dropout=dropout,\n",
        "                           batch_first=True)\n",
        "\n",
        "        \n",
        "        \n",
        "        \n",
        "        \n",
        "    def forward(self, src, srcLength):\n",
        "        \n",
        "        #src = [src len, batch size]\n",
        "        # import pdb\n",
        "        # pdb.set_trace()\n",
        "        embedded = self.embedding(src)\n",
        "\n",
        "        #embedded = [src len, batch size, emb dim]\n",
        "        \n",
        "        outputs, (hidden, cell) = self.encoder(embedded)\n",
        "\n",
        "        #outputs = [batch size, src len,  hid dim * n directions]\n",
        "        #hidden = [ n layers * n directions, batch size, hid dim]\n",
        "        hidden_output = hidden.permute(1, 0, 2)\n",
        "        #[batch_size, num_layers, hid_dim]\n",
        "        print(f\"Encoder output : {outputs.shape}, Encoder hidden shape : {hidden.shape}\")        \n",
        "        return hidden_output"
      ],
      "execution_count": 130,
      "outputs": []
    },
    {
      "cell_type": "markdown",
      "metadata": {
        "id": "ZxDIFoOU-dnD"
      },
      "source": [
        "**Decoder**"
      ]
    },
    {
      "cell_type": "code",
      "metadata": {
        "id": "_yyW0k6Y-cnp"
      },
      "source": [
        "class Decoder(nn.Module):\n",
        "    def __init__(self, input_dim, hidden_dim, output_dim, n_layers, dropout):\n",
        "        super().__init__()\n",
        "\n",
        "        \n",
        "         # LSTM layer\n",
        "        self.decoder = nn.LSTM(input_dim, \n",
        "                           hidden_dim, \n",
        "                           num_layers=n_layers, \n",
        "                           dropout=dropout,\n",
        "                           batch_first=True)\n",
        "\n",
        "        self.fc = nn.Linear(hidden_dim, output_dim)\n",
        "        \n",
        "        \n",
        "        \n",
        "    def forward(self, src):\n",
        "        \n",
        "        outputs, (hidden, cell) = self.decoder(src)\n",
        "\n",
        "        #outputs = [batch size, src len,  hid dim * n directions]\n",
        "        #hidden = [batch size, n layers * n directions,  hid dim]\n",
        "\n",
        "        dense_outputs = self.fc(hidden[0])\n",
        "        print(f\"Decoder output : {outputs.shape}, Decoder hidden shape :{hidden.shape}\")\n",
        "        return dense_outputs"
      ],
      "execution_count": 131,
      "outputs": []
    },
    {
      "cell_type": "markdown",
      "metadata": {
        "id": "XZabcJKKAo5Y"
      },
      "source": [
        "**ENCODER-DECODER_MODEL**"
      ]
    },
    {
      "cell_type": "code",
      "metadata": {
        "id": "hY3ime5AAvi9"
      },
      "source": [
        "class EncoderDecoderModel(nn.Module):\n",
        "  def __init__(self, encoder, decoder):\n",
        "    super().__init__()\n",
        "\n",
        "    self.encoder = encoder\n",
        "    self.decoder = decoder\n",
        "\n",
        "  def forward(self, src, src_length):\n",
        "\n",
        "    encoder_output = self.encoder(src, src_length)\n",
        "    # pdb.set_trace()\n",
        "    decoder_output = self.decoder(encoder_output)\n",
        "                          \n",
        "    return decoder_output"
      ],
      "execution_count": 132,
      "outputs": []
    },
    {
      "cell_type": "markdown",
      "metadata": {
        "id": "f1_FkhJNVZVc"
      },
      "source": [
        "**Define hyperparameters**"
      ]
    },
    {
      "cell_type": "code",
      "metadata": {
        "id": "rwBoGE_X_Fl8",
        "colab": {
          "base_uri": "https://localhost:8080/"
        },
        "outputId": "cda16cce-afff-4a47-ef6d-942e81c759e3"
      },
      "source": [
        "size_of_vocab = len(Tweet.vocab)\n",
        "embedding_dim = 300\n",
        "num_hidden_nodes = 100\n",
        "num_output_nodes = len(Label.vocab)\n",
        "num_layers =1\n",
        "dropout = 0.2\n",
        "dec_input_nodes = num_hidden_nodes\n",
        "\n",
        "\n",
        "enc = Encoder(size_of_vocab, embedding_dim, num_hidden_nodes, num_layers, dropout)\n",
        "dec = Decoder(dec_input_nodes, num_hidden_nodes, num_output_nodes, num_layers, dropout)\n",
        "\n",
        "model = EncoderDecoderModel(enc, dec)"
      ],
      "execution_count": 133,
      "outputs": [
        {
          "output_type": "stream",
          "text": [
            "/usr/local/lib/python3.7/dist-packages/torch/nn/modules/rnn.py:63: UserWarning: dropout option adds dropout after all but last recurrent layer, so non-zero dropout expects num_layers greater than 1, but got dropout=0.2 and num_layers=1\n",
            "  \"num_layers={}\".format(dropout, num_layers))\n"
          ],
          "name": "stderr"
        }
      ]
    },
    {
      "cell_type": "code",
      "metadata": {
        "id": "O-pOMqzJ3eTv",
        "colab": {
          "base_uri": "https://localhost:8080/"
        },
        "outputId": "a0a24b71-800a-450c-9445-6f5f5c8cdb43"
      },
      "source": [
        "print(model)\n",
        "\n",
        "def count_parameters(model):\n",
        "    return sum(p.numel() for p in model.parameters() if p.requires_grad)\n",
        "    \n",
        "print(f'The model has {count_parameters(model):,} trainable parameters')"
      ],
      "execution_count": 134,
      "outputs": [
        {
          "output_type": "stream",
          "text": [
            "EncoderDecoderModel(\n",
            "  (encoder): Encoder(\n",
            "    (embedding): Embedding(4653, 300)\n",
            "    (encoder): LSTM(300, 100, batch_first=True, dropout=0.2)\n",
            "  )\n",
            "  (decoder): Decoder(\n",
            "    (decoder): LSTM(100, 100, batch_first=True, dropout=0.2)\n",
            "    (fc): Linear(in_features=100, out_features=3, bias=True)\n",
            "  )\n",
            ")\n",
            "The model has 1,637,803 trainable parameters\n"
          ],
          "name": "stdout"
        }
      ]
    },
    {
      "cell_type": "markdown",
      "metadata": {
        "id": "eXajorf5Xz7t"
      },
      "source": [
        "## Model Training and Evaluation"
      ]
    },
    {
      "cell_type": "markdown",
      "metadata": {
        "id": "PrE9RpMtZ1Vs"
      },
      "source": [
        "First define the optimizer and loss functions"
      ]
    },
    {
      "cell_type": "code",
      "metadata": {
        "id": "-u86JWdlXvu5"
      },
      "source": [
        "import torch.optim as optim\n",
        "\n",
        "# define optimizer and loss\n",
        "optimizer = optim.Adam(model.parameters(), lr=2e-4)\n",
        "criterion = nn.CrossEntropyLoss()\n",
        "\n",
        "# define metric\n",
        "def binary_accuracy(preds, y):\n",
        "    #round predictions to the closest integer\n",
        "    _, predictions = torch.max(preds, 1)\n",
        "    \n",
        "    correct = (predictions == y).float() \n",
        "    acc = correct.sum() / len(correct)\n",
        "    return acc\n",
        "    \n",
        "# push to cuda if available\n",
        "model = model.to(device)\n",
        "criterion = criterion.to(device)"
      ],
      "execution_count": 135,
      "outputs": []
    },
    {
      "cell_type": "markdown",
      "metadata": {
        "id": "3VCJtNb3Zt8w"
      },
      "source": [
        "The main thing to be aware of in this new training loop is that we have to reference `batch.tweets` and `batch.labels` to get the particular fields we’re interested in; they don’t fall out quite as nicely from the enumerator as they do in torchvision."
      ]
    },
    {
      "cell_type": "markdown",
      "metadata": {
        "id": "2WjEPLKsAiS_"
      },
      "source": [
        "**Training Loop**"
      ]
    },
    {
      "cell_type": "code",
      "metadata": {
        "id": "HDWNnGK3Y5oJ"
      },
      "source": [
        "def train(model, iterator, optimizer, criterion):\n",
        "    \n",
        "    # initialize every epoch \n",
        "    epoch_loss = 0\n",
        "    epoch_acc = 0\n",
        "    \n",
        "    # set the model in training phase\n",
        "    model.train()  \n",
        "    \n",
        "    for batch in iterator:\n",
        "        \n",
        "        # resets the gradients after every batch\n",
        "        optimizer.zero_grad()   \n",
        "        \n",
        "        # retrieve text and no. of words\n",
        "        tweet, tweet_lengths = batch.tweets   \n",
        "        \n",
        "        # convert to 1D tensor\n",
        "        predictions = model(tweet, tweet_lengths).squeeze()  \n",
        "        \n",
        "        # compute the loss\n",
        "        loss = criterion(predictions, batch.labels)        \n",
        "        \n",
        "        # compute the binary accuracy\n",
        "        acc = binary_accuracy(predictions, batch.labels)   \n",
        "        \n",
        "        # backpropage the loss and compute the gradients\n",
        "        loss.backward()       \n",
        "        \n",
        "        # update the weights\n",
        "        optimizer.step()      \n",
        "        \n",
        "        # loss and accuracy\n",
        "        epoch_loss += loss.item()  \n",
        "        epoch_acc += acc.item()    \n",
        "        \n",
        "    return epoch_loss / len(iterator), epoch_acc / len(iterator)"
      ],
      "execution_count": 136,
      "outputs": []
    },
    {
      "cell_type": "markdown",
      "metadata": {
        "id": "CZcHhkkvAsCt"
      },
      "source": [
        "**Evaluation Loop**"
      ]
    },
    {
      "cell_type": "code",
      "metadata": {
        "id": "zHEe-zSVAriL"
      },
      "source": [
        "def evaluate(model, iterator, criterion):\n",
        "    \n",
        "    # initialize every epoch\n",
        "    epoch_loss = 0\n",
        "    epoch_acc = 0\n",
        "\n",
        "    # deactivating dropout layers\n",
        "    model.eval()\n",
        "    \n",
        "    # deactivates autograd\n",
        "    with torch.no_grad():\n",
        "    \n",
        "        for batch in iterator:\n",
        "        \n",
        "            # retrieve text and no. of words\n",
        "            tweet, tweet_lengths = batch.tweets\n",
        "            \n",
        "            # convert to 1d tensor\n",
        "            predictions = model(tweet, tweet_lengths).squeeze()\n",
        "            \n",
        "            # compute loss and accuracy\n",
        "            loss = criterion(predictions, batch.labels)\n",
        "            acc = binary_accuracy(predictions, batch.labels)\n",
        "            \n",
        "            # keep track of loss and accuracy\n",
        "            epoch_loss += loss.item()\n",
        "            epoch_acc += acc.item()\n",
        "        \n",
        "    return epoch_loss / len(iterator), epoch_acc / len(iterator)"
      ],
      "execution_count": 137,
      "outputs": []
    },
    {
      "cell_type": "markdown",
      "metadata": {
        "id": "L6LJFW7HaJoV"
      },
      "source": [
        "**Let's Train and Evaluate**"
      ]
    },
    {
      "cell_type": "code",
      "metadata": {
        "id": "tq330XlnaEU9",
        "colab": {
          "base_uri": "https://localhost:8080/"
        },
        "outputId": "26474ab8-4cbb-4871-8f22-9778cbb8dd94"
      },
      "source": [
        "N_EPOCHS = 11\n",
        "best_valid_loss = float('inf')\n",
        "\n",
        "for epoch in range(N_EPOCHS):\n",
        "     \n",
        "    # train the model\n",
        "    train_loss, train_acc = train(model, train_iterator, optimizer, criterion)\n",
        "    \n",
        "    # evaluate the model\n",
        "    valid_loss, valid_acc = evaluate(model, valid_iterator, criterion)\n",
        "    \n",
        "    # save the best model\n",
        "    if valid_loss < best_valid_loss:\n",
        "        best_valid_loss = valid_loss\n",
        "        torch.save(model.state_dict(), 'saved_weights.pt')\n",
        "    \n",
        "    print(f'\\tTrain Loss: {train_loss:.3f} | Train Acc: {train_acc*100:.2f}%')\n",
        "    print(f'\\t Val. Loss: {valid_loss:.3f} |  Val. Acc: {valid_acc*100:.2f}% \\n')"
      ],
      "execution_count": 138,
      "outputs": [
        {
          "output_type": "stream",
          "text": [
            "Encoder output : torch.Size([32, 27, 100]), Encoder hidden shape : torch.Size([1, 32, 100])\n",
            "Decoder output : torch.Size([32, 1, 100]), Decoder hidden shape :torch.Size([1, 32, 100])\n",
            "Encoder output : torch.Size([32, 31, 100]), Encoder hidden shape : torch.Size([1, 32, 100])\n",
            "Decoder output : torch.Size([32, 1, 100]), Decoder hidden shape :torch.Size([1, 32, 100])\n",
            "Encoder output : torch.Size([32, 18, 100]), Encoder hidden shape : torch.Size([1, 32, 100])\n",
            "Decoder output : torch.Size([32, 1, 100]), Decoder hidden shape :torch.Size([1, 32, 100])\n",
            "Encoder output : torch.Size([32, 28, 100]), Encoder hidden shape : torch.Size([1, 32, 100])\n",
            "Decoder output : torch.Size([32, 1, 100]), Decoder hidden shape :torch.Size([1, 32, 100])\n",
            "Encoder output : torch.Size([32, 29, 100]), Encoder hidden shape : torch.Size([1, 32, 100])\n",
            "Decoder output : torch.Size([32, 1, 100]), Decoder hidden shape :torch.Size([1, 32, 100])\n",
            "Encoder output : torch.Size([32, 16, 100]), Encoder hidden shape : torch.Size([1, 32, 100])\n",
            "Decoder output : torch.Size([32, 1, 100]), Decoder hidden shape :torch.Size([1, 32, 100])\n",
            "Encoder output : torch.Size([32, 21, 100]), Encoder hidden shape : torch.Size([1, 32, 100])\n",
            "Decoder output : torch.Size([32, 1, 100]), Decoder hidden shape :torch.Size([1, 32, 100])\n",
            "Encoder output : torch.Size([32, 31, 100]), Encoder hidden shape : torch.Size([1, 32, 100])\n",
            "Decoder output : torch.Size([32, 1, 100]), Decoder hidden shape :torch.Size([1, 32, 100])\n",
            "Encoder output : torch.Size([32, 27, 100]), Encoder hidden shape : torch.Size([1, 32, 100])\n",
            "Decoder output : torch.Size([32, 1, 100]), Decoder hidden shape :torch.Size([1, 32, 100])\n",
            "Encoder output : torch.Size([32, 12, 100]), Encoder hidden shape : torch.Size([1, 32, 100])\n",
            "Decoder output : torch.Size([32, 1, 100]), Decoder hidden shape :torch.Size([1, 32, 100])\n",
            "Encoder output : torch.Size([32, 30, 100]), Encoder hidden shape : torch.Size([1, 32, 100])\n",
            "Decoder output : torch.Size([32, 1, 100]), Decoder hidden shape :torch.Size([1, 32, 100])\n",
            "Encoder output : torch.Size([32, 23, 100]), Encoder hidden shape : torch.Size([1, 32, 100])\n",
            "Decoder output : torch.Size([32, 1, 100]), Decoder hidden shape :torch.Size([1, 32, 100])\n",
            "Encoder output : torch.Size([32, 37, 100]), Encoder hidden shape : torch.Size([1, 32, 100])\n",
            "Decoder output : torch.Size([32, 1, 100]), Decoder hidden shape :torch.Size([1, 32, 100])\n",
            "Encoder output : torch.Size([32, 33, 100]), Encoder hidden shape : torch.Size([1, 32, 100])\n",
            "Decoder output : torch.Size([32, 1, 100]), Decoder hidden shape :torch.Size([1, 32, 100])\n",
            "Encoder output : torch.Size([32, 15, 100]), Encoder hidden shape : torch.Size([1, 32, 100])\n",
            "Decoder output : torch.Size([32, 1, 100]), Decoder hidden shape :torch.Size([1, 32, 100])\n",
            "Encoder output : torch.Size([32, 21, 100]), Encoder hidden shape : torch.Size([1, 32, 100])\n",
            "Decoder output : torch.Size([32, 1, 100]), Decoder hidden shape :torch.Size([1, 32, 100])\n",
            "Encoder output : torch.Size([32, 26, 100]), Encoder hidden shape : torch.Size([1, 32, 100])\n",
            "Decoder output : torch.Size([32, 1, 100]), Decoder hidden shape :torch.Size([1, 32, 100])\n",
            "Encoder output : torch.Size([32, 32, 100]), Encoder hidden shape : torch.Size([1, 32, 100])\n",
            "Decoder output : torch.Size([32, 1, 100]), Decoder hidden shape :torch.Size([1, 32, 100])\n",
            "Encoder output : torch.Size([32, 10, 100]), Encoder hidden shape : torch.Size([1, 32, 100])\n",
            "Decoder output : torch.Size([32, 1, 100]), Decoder hidden shape :torch.Size([1, 32, 100])\n",
            "Encoder output : torch.Size([32, 42, 100]), Encoder hidden shape : torch.Size([1, 32, 100])\n",
            "Decoder output : torch.Size([32, 1, 100]), Decoder hidden shape :torch.Size([1, 32, 100])\n",
            "Encoder output : torch.Size([32, 16, 100]), Encoder hidden shape : torch.Size([1, 32, 100])\n",
            "Decoder output : torch.Size([32, 1, 100]), Decoder hidden shape :torch.Size([1, 32, 100])\n",
            "Encoder output : torch.Size([32, 13, 100]), Encoder hidden shape : torch.Size([1, 32, 100])\n",
            "Decoder output : torch.Size([32, 1, 100]), Decoder hidden shape :torch.Size([1, 32, 100])\n",
            "Encoder output : torch.Size([32, 29, 100]), Encoder hidden shape : torch.Size([1, 32, 100])\n",
            "Decoder output : torch.Size([32, 1, 100]), Decoder hidden shape :torch.Size([1, 32, 100])\n",
            "Encoder output : torch.Size([7, 45, 100]), Encoder hidden shape : torch.Size([1, 7, 100])\n",
            "Decoder output : torch.Size([7, 1, 100]), Decoder hidden shape :torch.Size([1, 7, 100])\n",
            "Encoder output : torch.Size([32, 28, 100]), Encoder hidden shape : torch.Size([1, 32, 100])\n",
            "Decoder output : torch.Size([32, 1, 100]), Decoder hidden shape :torch.Size([1, 32, 100])\n",
            "Encoder output : torch.Size([32, 25, 100]), Encoder hidden shape : torch.Size([1, 32, 100])\n",
            "Decoder output : torch.Size([32, 1, 100]), Decoder hidden shape :torch.Size([1, 32, 100])\n",
            "Encoder output : torch.Size([32, 20, 100]), Encoder hidden shape : torch.Size([1, 32, 100])\n",
            "Decoder output : torch.Size([32, 1, 100]), Decoder hidden shape :torch.Size([1, 32, 100])\n",
            "Encoder output : torch.Size([32, 8, 100]), Encoder hidden shape : torch.Size([1, 32, 100])\n",
            "Decoder output : torch.Size([32, 1, 100]), Decoder hidden shape :torch.Size([1, 32, 100])\n",
            "Encoder output : torch.Size([32, 35, 100]), Encoder hidden shape : torch.Size([1, 32, 100])\n",
            "Decoder output : torch.Size([32, 1, 100]), Decoder hidden shape :torch.Size([1, 32, 100])\n",
            "Encoder output : torch.Size([32, 42, 100]), Encoder hidden shape : torch.Size([1, 32, 100])\n",
            "Decoder output : torch.Size([32, 1, 100]), Decoder hidden shape :torch.Size([1, 32, 100])\n",
            "Encoder output : torch.Size([32, 42, 100]), Encoder hidden shape : torch.Size([1, 32, 100])\n",
            "Decoder output : torch.Size([32, 1, 100]), Decoder hidden shape :torch.Size([1, 32, 100])\n",
            "Encoder output : torch.Size([32, 19, 100]), Encoder hidden shape : torch.Size([1, 32, 100])\n",
            "Decoder output : torch.Size([32, 1, 100]), Decoder hidden shape :torch.Size([1, 32, 100])\n",
            "Encoder output : torch.Size([32, 24, 100]), Encoder hidden shape : torch.Size([1, 32, 100])\n",
            "Decoder output : torch.Size([32, 1, 100]), Decoder hidden shape :torch.Size([1, 32, 100])\n",
            "Encoder output : torch.Size([32, 17, 100]), Encoder hidden shape : torch.Size([1, 32, 100])\n",
            "Decoder output : torch.Size([32, 1, 100]), Decoder hidden shape :torch.Size([1, 32, 100])\n",
            "Encoder output : torch.Size([32, 25, 100]), Encoder hidden shape : torch.Size([1, 32, 100])\n",
            "Decoder output : torch.Size([32, 1, 100]), Decoder hidden shape :torch.Size([1, 32, 100])\n",
            "Encoder output : torch.Size([32, 22, 100]), Encoder hidden shape : torch.Size([1, 32, 100])\n",
            "Decoder output : torch.Size([32, 1, 100]), Decoder hidden shape :torch.Size([1, 32, 100])\n",
            "Encoder output : torch.Size([32, 12, 100]), Encoder hidden shape : torch.Size([1, 32, 100])\n",
            "Decoder output : torch.Size([32, 1, 100]), Decoder hidden shape :torch.Size([1, 32, 100])\n",
            "Encoder output : torch.Size([32, 13, 100]), Encoder hidden shape : torch.Size([1, 32, 100])\n",
            "Decoder output : torch.Size([32, 1, 100]), Decoder hidden shape :torch.Size([1, 32, 100])\n",
            "Encoder output : torch.Size([32, 18, 100]), Encoder hidden shape : torch.Size([1, 32, 100])\n",
            "Decoder output : torch.Size([32, 1, 100]), Decoder hidden shape :torch.Size([1, 32, 100])\n",
            "Encoder output : torch.Size([32, 23, 100]), Encoder hidden shape : torch.Size([1, 32, 100])\n",
            "Decoder output : torch.Size([32, 1, 100]), Decoder hidden shape :torch.Size([1, 32, 100])\n",
            "Encoder output : torch.Size([32, 27, 100]), Encoder hidden shape : torch.Size([1, 32, 100])\n",
            "Decoder output : torch.Size([32, 1, 100]), Decoder hidden shape :torch.Size([1, 32, 100])\n",
            "Encoder output : torch.Size([32, 31, 100]), Encoder hidden shape : torch.Size([1, 32, 100])\n",
            "Decoder output : torch.Size([32, 1, 100]), Decoder hidden shape :torch.Size([1, 32, 100])\n",
            "Encoder output : torch.Size([32, 42, 100]), Encoder hidden shape : torch.Size([1, 32, 100])\n",
            "Decoder output : torch.Size([32, 1, 100]), Decoder hidden shape :torch.Size([1, 32, 100])\n",
            "Encoder output : torch.Size([13, 42, 100]), Encoder hidden shape : torch.Size([1, 13, 100])\n",
            "Decoder output : torch.Size([13, 1, 100]), Decoder hidden shape :torch.Size([1, 13, 100])\n",
            "\tTrain Loss: 1.038 | Train Acc: 57.89%\n",
            "\t Val. Loss: 0.931 |  Val. Acc: 68.30% \n",
            "\n",
            "Encoder output : torch.Size([32, 28, 100]), Encoder hidden shape : torch.Size([1, 32, 100])\n",
            "Decoder output : torch.Size([32, 1, 100]), Decoder hidden shape :torch.Size([1, 32, 100])\n",
            "Encoder output : torch.Size([32, 31, 100]), Encoder hidden shape : torch.Size([1, 32, 100])\n",
            "Decoder output : torch.Size([32, 1, 100]), Decoder hidden shape :torch.Size([1, 32, 100])\n",
            "Encoder output : torch.Size([32, 16, 100]), Encoder hidden shape : torch.Size([1, 32, 100])\n",
            "Decoder output : torch.Size([32, 1, 100]), Decoder hidden shape :torch.Size([1, 32, 100])\n",
            "Encoder output : torch.Size([32, 10, 100]), Encoder hidden shape : torch.Size([1, 32, 100])\n",
            "Decoder output : torch.Size([32, 1, 100]), Decoder hidden shape :torch.Size([1, 32, 100])\n",
            "Encoder output : torch.Size([32, 25, 100]), Encoder hidden shape : torch.Size([1, 32, 100])\n",
            "Decoder output : torch.Size([32, 1, 100]), Decoder hidden shape :torch.Size([1, 32, 100])\n",
            "Encoder output : torch.Size([32, 27, 100]), Encoder hidden shape : torch.Size([1, 32, 100])\n",
            "Decoder output : torch.Size([32, 1, 100]), Decoder hidden shape :torch.Size([1, 32, 100])\n",
            "Encoder output : torch.Size([32, 21, 100]), Encoder hidden shape : torch.Size([1, 32, 100])\n",
            "Decoder output : torch.Size([32, 1, 100]), Decoder hidden shape :torch.Size([1, 32, 100])\n",
            "Encoder output : torch.Size([32, 27, 100]), Encoder hidden shape : torch.Size([1, 32, 100])\n",
            "Decoder output : torch.Size([32, 1, 100]), Decoder hidden shape :torch.Size([1, 32, 100])\n",
            "Encoder output : torch.Size([32, 42, 100]), Encoder hidden shape : torch.Size([1, 32, 100])\n",
            "Decoder output : torch.Size([32, 1, 100]), Decoder hidden shape :torch.Size([1, 32, 100])\n",
            "Encoder output : torch.Size([32, 25, 100]), Encoder hidden shape : torch.Size([1, 32, 100])\n",
            "Decoder output : torch.Size([32, 1, 100]), Decoder hidden shape :torch.Size([1, 32, 100])\n",
            "Encoder output : torch.Size([32, 23, 100]), Encoder hidden shape : torch.Size([1, 32, 100])\n",
            "Decoder output : torch.Size([32, 1, 100]), Decoder hidden shape :torch.Size([1, 32, 100])\n",
            "Encoder output : torch.Size([32, 26, 100]), Encoder hidden shape : torch.Size([1, 32, 100])\n",
            "Decoder output : torch.Size([32, 1, 100]), Decoder hidden shape :torch.Size([1, 32, 100])\n",
            "Encoder output : torch.Size([32, 24, 100]), Encoder hidden shape : torch.Size([1, 32, 100])\n",
            "Decoder output : torch.Size([32, 1, 100]), Decoder hidden shape :torch.Size([1, 32, 100])\n",
            "Encoder output : torch.Size([32, 13, 100]), Encoder hidden shape : torch.Size([1, 32, 100])\n",
            "Decoder output : torch.Size([32, 1, 100]), Decoder hidden shape :torch.Size([1, 32, 100])\n",
            "Encoder output : torch.Size([32, 15, 100]), Encoder hidden shape : torch.Size([1, 32, 100])\n",
            "Decoder output : torch.Size([32, 1, 100]), Decoder hidden shape :torch.Size([1, 32, 100])\n",
            "Encoder output : torch.Size([32, 42, 100]), Encoder hidden shape : torch.Size([1, 32, 100])\n",
            "Decoder output : torch.Size([32, 1, 100]), Decoder hidden shape :torch.Size([1, 32, 100])\n",
            "Encoder output : torch.Size([32, 30, 100]), Encoder hidden shape : torch.Size([1, 32, 100])\n",
            "Decoder output : torch.Size([32, 1, 100]), Decoder hidden shape :torch.Size([1, 32, 100])\n",
            "Encoder output : torch.Size([32, 29, 100]), Encoder hidden shape : torch.Size([1, 32, 100])\n",
            "Decoder output : torch.Size([32, 1, 100]), Decoder hidden shape :torch.Size([1, 32, 100])\n",
            "Encoder output : torch.Size([32, 18, 100]), Encoder hidden shape : torch.Size([1, 32, 100])\n",
            "Decoder output : torch.Size([32, 1, 100]), Decoder hidden shape :torch.Size([1, 32, 100])\n",
            "Encoder output : torch.Size([32, 20, 100]), Encoder hidden shape : torch.Size([1, 32, 100])\n",
            "Decoder output : torch.Size([32, 1, 100]), Decoder hidden shape :torch.Size([1, 32, 100])\n",
            "Encoder output : torch.Size([32, 12, 100]), Encoder hidden shape : torch.Size([1, 32, 100])\n",
            "Decoder output : torch.Size([32, 1, 100]), Decoder hidden shape :torch.Size([1, 32, 100])\n",
            "Encoder output : torch.Size([32, 33, 100]), Encoder hidden shape : torch.Size([1, 32, 100])\n",
            "Decoder output : torch.Size([32, 1, 100]), Decoder hidden shape :torch.Size([1, 32, 100])\n",
            "Encoder output : torch.Size([32, 8, 100]), Encoder hidden shape : torch.Size([1, 32, 100])\n",
            "Decoder output : torch.Size([32, 1, 100]), Decoder hidden shape :torch.Size([1, 32, 100])\n",
            "Encoder output : torch.Size([32, 16, 100]), Encoder hidden shape : torch.Size([1, 32, 100])\n",
            "Decoder output : torch.Size([32, 1, 100]), Decoder hidden shape :torch.Size([1, 32, 100])\n",
            "Encoder output : torch.Size([32, 19, 100]), Encoder hidden shape : torch.Size([1, 32, 100])\n",
            "Decoder output : torch.Size([32, 1, 100]), Decoder hidden shape :torch.Size([1, 32, 100])\n",
            "Encoder output : torch.Size([32, 42, 100]), Encoder hidden shape : torch.Size([1, 32, 100])\n",
            "Decoder output : torch.Size([32, 1, 100]), Decoder hidden shape :torch.Size([1, 32, 100])\n",
            "Encoder output : torch.Size([32, 21, 100]), Encoder hidden shape : torch.Size([1, 32, 100])\n",
            "Decoder output : torch.Size([32, 1, 100]), Decoder hidden shape :torch.Size([1, 32, 100])\n",
            "Encoder output : torch.Size([32, 12, 100]), Encoder hidden shape : torch.Size([1, 32, 100])\n",
            "Decoder output : torch.Size([32, 1, 100]), Decoder hidden shape :torch.Size([1, 32, 100])\n",
            "Encoder output : torch.Size([32, 32, 100]), Encoder hidden shape : torch.Size([1, 32, 100])\n",
            "Decoder output : torch.Size([32, 1, 100]), Decoder hidden shape :torch.Size([1, 32, 100])\n",
            "Encoder output : torch.Size([32, 17, 100]), Encoder hidden shape : torch.Size([1, 32, 100])\n",
            "Decoder output : torch.Size([32, 1, 100]), Decoder hidden shape :torch.Size([1, 32, 100])\n",
            "Encoder output : torch.Size([32, 37, 100]), Encoder hidden shape : torch.Size([1, 32, 100])\n",
            "Decoder output : torch.Size([32, 1, 100]), Decoder hidden shape :torch.Size([1, 32, 100])\n",
            "Encoder output : torch.Size([32, 31, 100]), Encoder hidden shape : torch.Size([1, 32, 100])\n",
            "Decoder output : torch.Size([32, 1, 100]), Decoder hidden shape :torch.Size([1, 32, 100])\n",
            "Encoder output : torch.Size([32, 35, 100]), Encoder hidden shape : torch.Size([1, 32, 100])\n",
            "Decoder output : torch.Size([32, 1, 100]), Decoder hidden shape :torch.Size([1, 32, 100])\n",
            "Encoder output : torch.Size([32, 22, 100]), Encoder hidden shape : torch.Size([1, 32, 100])\n",
            "Decoder output : torch.Size([32, 1, 100]), Decoder hidden shape :torch.Size([1, 32, 100])\n",
            "Encoder output : torch.Size([32, 29, 100]), Encoder hidden shape : torch.Size([1, 32, 100])\n",
            "Decoder output : torch.Size([32, 1, 100]), Decoder hidden shape :torch.Size([1, 32, 100])\n",
            "Encoder output : torch.Size([7, 45, 100]), Encoder hidden shape : torch.Size([1, 7, 100])\n",
            "Decoder output : torch.Size([7, 1, 100]), Decoder hidden shape :torch.Size([1, 7, 100])\n",
            "Encoder output : torch.Size([32, 28, 100]), Encoder hidden shape : torch.Size([1, 32, 100])\n",
            "Decoder output : torch.Size([32, 1, 100]), Decoder hidden shape :torch.Size([1, 32, 100])\n",
            "Encoder output : torch.Size([32, 13, 100]), Encoder hidden shape : torch.Size([1, 32, 100])\n",
            "Decoder output : torch.Size([32, 1, 100]), Decoder hidden shape :torch.Size([1, 32, 100])\n",
            "Encoder output : torch.Size([32, 18, 100]), Encoder hidden shape : torch.Size([1, 32, 100])\n",
            "Decoder output : torch.Size([32, 1, 100]), Decoder hidden shape :torch.Size([1, 32, 100])\n",
            "Encoder output : torch.Size([32, 23, 100]), Encoder hidden shape : torch.Size([1, 32, 100])\n",
            "Decoder output : torch.Size([32, 1, 100]), Decoder hidden shape :torch.Size([1, 32, 100])\n",
            "Encoder output : torch.Size([32, 27, 100]), Encoder hidden shape : torch.Size([1, 32, 100])\n",
            "Decoder output : torch.Size([32, 1, 100]), Decoder hidden shape :torch.Size([1, 32, 100])\n",
            "Encoder output : torch.Size([32, 31, 100]), Encoder hidden shape : torch.Size([1, 32, 100])\n",
            "Decoder output : torch.Size([32, 1, 100]), Decoder hidden shape :torch.Size([1, 32, 100])\n",
            "Encoder output : torch.Size([32, 42, 100]), Encoder hidden shape : torch.Size([1, 32, 100])\n",
            "Decoder output : torch.Size([32, 1, 100]), Decoder hidden shape :torch.Size([1, 32, 100])\n",
            "Encoder output : torch.Size([13, 42, 100]), Encoder hidden shape : torch.Size([1, 13, 100])\n",
            "Decoder output : torch.Size([13, 1, 100]), Decoder hidden shape :torch.Size([1, 13, 100])\n",
            "\tTrain Loss: 0.840 | Train Acc: 69.12%\n",
            "\t Val. Loss: 0.801 |  Val. Acc: 68.30% \n",
            "\n",
            "Encoder output : torch.Size([32, 17, 100]), Encoder hidden shape : torch.Size([1, 32, 100])\n",
            "Decoder output : torch.Size([32, 1, 100]), Decoder hidden shape :torch.Size([1, 32, 100])\n",
            "Encoder output : torch.Size([32, 42, 100]), Encoder hidden shape : torch.Size([1, 32, 100])\n",
            "Decoder output : torch.Size([32, 1, 100]), Decoder hidden shape :torch.Size([1, 32, 100])\n",
            "Encoder output : torch.Size([32, 26, 100]), Encoder hidden shape : torch.Size([1, 32, 100])\n",
            "Decoder output : torch.Size([32, 1, 100]), Decoder hidden shape :torch.Size([1, 32, 100])\n",
            "Encoder output : torch.Size([32, 12, 100]), Encoder hidden shape : torch.Size([1, 32, 100])\n",
            "Decoder output : torch.Size([32, 1, 100]), Decoder hidden shape :torch.Size([1, 32, 100])\n",
            "Encoder output : torch.Size([32, 31, 100]), Encoder hidden shape : torch.Size([1, 32, 100])\n",
            "Decoder output : torch.Size([32, 1, 100]), Decoder hidden shape :torch.Size([1, 32, 100])\n",
            "Encoder output : torch.Size([32, 33, 100]), Encoder hidden shape : torch.Size([1, 32, 100])\n",
            "Decoder output : torch.Size([32, 1, 100]), Decoder hidden shape :torch.Size([1, 32, 100])\n",
            "Encoder output : torch.Size([32, 28, 100]), Encoder hidden shape : torch.Size([1, 32, 100])\n",
            "Decoder output : torch.Size([32, 1, 100]), Decoder hidden shape :torch.Size([1, 32, 100])\n",
            "Encoder output : torch.Size([32, 15, 100]), Encoder hidden shape : torch.Size([1, 32, 100])\n",
            "Decoder output : torch.Size([32, 1, 100]), Decoder hidden shape :torch.Size([1, 32, 100])\n",
            "Encoder output : torch.Size([32, 13, 100]), Encoder hidden shape : torch.Size([1, 32, 100])\n",
            "Decoder output : torch.Size([32, 1, 100]), Decoder hidden shape :torch.Size([1, 32, 100])\n",
            "Encoder output : torch.Size([32, 29, 100]), Encoder hidden shape : torch.Size([1, 32, 100])\n",
            "Decoder output : torch.Size([32, 1, 100]), Decoder hidden shape :torch.Size([1, 32, 100])\n",
            "Encoder output : torch.Size([32, 8, 100]), Encoder hidden shape : torch.Size([1, 32, 100])\n",
            "Decoder output : torch.Size([32, 1, 100]), Decoder hidden shape :torch.Size([1, 32, 100])\n",
            "Encoder output : torch.Size([32, 28, 100]), Encoder hidden shape : torch.Size([1, 32, 100])\n",
            "Decoder output : torch.Size([32, 1, 100]), Decoder hidden shape :torch.Size([1, 32, 100])\n",
            "Encoder output : torch.Size([32, 37, 100]), Encoder hidden shape : torch.Size([1, 32, 100])\n",
            "Decoder output : torch.Size([32, 1, 100]), Decoder hidden shape :torch.Size([1, 32, 100])\n",
            "Encoder output : torch.Size([32, 22, 100]), Encoder hidden shape : torch.Size([1, 32, 100])\n",
            "Decoder output : torch.Size([32, 1, 100]), Decoder hidden shape :torch.Size([1, 32, 100])\n",
            "Encoder output : torch.Size([32, 30, 100]), Encoder hidden shape : torch.Size([1, 32, 100])\n",
            "Decoder output : torch.Size([32, 1, 100]), Decoder hidden shape :torch.Size([1, 32, 100])\n",
            "Encoder output : torch.Size([32, 42, 100]), Encoder hidden shape : torch.Size([1, 32, 100])\n",
            "Decoder output : torch.Size([32, 1, 100]), Decoder hidden shape :torch.Size([1, 32, 100])\n",
            "Encoder output : torch.Size([32, 31, 100]), Encoder hidden shape : torch.Size([1, 32, 100])\n",
            "Decoder output : torch.Size([32, 1, 100]), Decoder hidden shape :torch.Size([1, 32, 100])\n",
            "Encoder output : torch.Size([32, 25, 100]), Encoder hidden shape : torch.Size([1, 32, 100])\n",
            "Decoder output : torch.Size([32, 1, 100]), Decoder hidden shape :torch.Size([1, 32, 100])\n",
            "Encoder output : torch.Size([32, 19, 100]), Encoder hidden shape : torch.Size([1, 32, 100])\n",
            "Decoder output : torch.Size([32, 1, 100]), Decoder hidden shape :torch.Size([1, 32, 100])\n",
            "Encoder output : torch.Size([32, 42, 100]), Encoder hidden shape : torch.Size([1, 32, 100])\n",
            "Decoder output : torch.Size([32, 1, 100]), Decoder hidden shape :torch.Size([1, 32, 100])\n",
            "Encoder output : torch.Size([32, 24, 100]), Encoder hidden shape : torch.Size([1, 32, 100])\n",
            "Decoder output : torch.Size([32, 1, 100]), Decoder hidden shape :torch.Size([1, 32, 100])\n",
            "Encoder output : torch.Size([32, 10, 100]), Encoder hidden shape : torch.Size([1, 32, 100])\n",
            "Decoder output : torch.Size([32, 1, 100]), Decoder hidden shape :torch.Size([1, 32, 100])\n",
            "Encoder output : torch.Size([32, 27, 100]), Encoder hidden shape : torch.Size([1, 32, 100])\n",
            "Decoder output : torch.Size([32, 1, 100]), Decoder hidden shape :torch.Size([1, 32, 100])\n",
            "Encoder output : torch.Size([32, 29, 100]), Encoder hidden shape : torch.Size([1, 32, 100])\n",
            "Decoder output : torch.Size([32, 1, 100]), Decoder hidden shape :torch.Size([1, 32, 100])\n",
            "Encoder output : torch.Size([32, 20, 100]), Encoder hidden shape : torch.Size([1, 32, 100])\n",
            "Decoder output : torch.Size([32, 1, 100]), Decoder hidden shape :torch.Size([1, 32, 100])\n",
            "Encoder output : torch.Size([32, 23, 100]), Encoder hidden shape : torch.Size([1, 32, 100])\n",
            "Decoder output : torch.Size([32, 1, 100]), Decoder hidden shape :torch.Size([1, 32, 100])\n",
            "Encoder output : torch.Size([32, 21, 100]), Encoder hidden shape : torch.Size([1, 32, 100])\n",
            "Decoder output : torch.Size([32, 1, 100]), Decoder hidden shape :torch.Size([1, 32, 100])\n",
            "Encoder output : torch.Size([32, 27, 100]), Encoder hidden shape : torch.Size([1, 32, 100])\n",
            "Decoder output : torch.Size([32, 1, 100]), Decoder hidden shape :torch.Size([1, 32, 100])\n",
            "Encoder output : torch.Size([32, 25, 100]), Encoder hidden shape : torch.Size([1, 32, 100])\n",
            "Decoder output : torch.Size([32, 1, 100]), Decoder hidden shape :torch.Size([1, 32, 100])\n",
            "Encoder output : torch.Size([32, 18, 100]), Encoder hidden shape : torch.Size([1, 32, 100])\n",
            "Decoder output : torch.Size([32, 1, 100]), Decoder hidden shape :torch.Size([1, 32, 100])\n",
            "Encoder output : torch.Size([32, 12, 100]), Encoder hidden shape : torch.Size([1, 32, 100])\n",
            "Decoder output : torch.Size([32, 1, 100]), Decoder hidden shape :torch.Size([1, 32, 100])\n",
            "Encoder output : torch.Size([32, 21, 100]), Encoder hidden shape : torch.Size([1, 32, 100])\n",
            "Decoder output : torch.Size([32, 1, 100]), Decoder hidden shape :torch.Size([1, 32, 100])\n",
            "Encoder output : torch.Size([32, 16, 100]), Encoder hidden shape : torch.Size([1, 32, 100])\n",
            "Decoder output : torch.Size([32, 1, 100]), Decoder hidden shape :torch.Size([1, 32, 100])\n",
            "Encoder output : torch.Size([32, 32, 100]), Encoder hidden shape : torch.Size([1, 32, 100])\n",
            "Decoder output : torch.Size([32, 1, 100]), Decoder hidden shape :torch.Size([1, 32, 100])\n",
            "Encoder output : torch.Size([32, 16, 100]), Encoder hidden shape : torch.Size([1, 32, 100])\n",
            "Decoder output : torch.Size([32, 1, 100]), Decoder hidden shape :torch.Size([1, 32, 100])\n",
            "Encoder output : torch.Size([7, 45, 100]), Encoder hidden shape : torch.Size([1, 7, 100])\n",
            "Decoder output : torch.Size([7, 1, 100]), Decoder hidden shape :torch.Size([1, 7, 100])\n",
            "Encoder output : torch.Size([32, 35, 100]), Encoder hidden shape : torch.Size([1, 32, 100])\n",
            "Decoder output : torch.Size([32, 1, 100]), Decoder hidden shape :torch.Size([1, 32, 100])\n",
            "Encoder output : torch.Size([32, 13, 100]), Encoder hidden shape : torch.Size([1, 32, 100])\n",
            "Decoder output : torch.Size([32, 1, 100]), Decoder hidden shape :torch.Size([1, 32, 100])\n",
            "Encoder output : torch.Size([32, 18, 100]), Encoder hidden shape : torch.Size([1, 32, 100])\n",
            "Decoder output : torch.Size([32, 1, 100]), Decoder hidden shape :torch.Size([1, 32, 100])\n",
            "Encoder output : torch.Size([32, 23, 100]), Encoder hidden shape : torch.Size([1, 32, 100])\n",
            "Decoder output : torch.Size([32, 1, 100]), Decoder hidden shape :torch.Size([1, 32, 100])\n",
            "Encoder output : torch.Size([32, 27, 100]), Encoder hidden shape : torch.Size([1, 32, 100])\n",
            "Decoder output : torch.Size([32, 1, 100]), Decoder hidden shape :torch.Size([1, 32, 100])\n",
            "Encoder output : torch.Size([32, 31, 100]), Encoder hidden shape : torch.Size([1, 32, 100])\n",
            "Decoder output : torch.Size([32, 1, 100]), Decoder hidden shape :torch.Size([1, 32, 100])\n",
            "Encoder output : torch.Size([32, 42, 100]), Encoder hidden shape : torch.Size([1, 32, 100])\n",
            "Decoder output : torch.Size([32, 1, 100]), Decoder hidden shape :torch.Size([1, 32, 100])\n",
            "Encoder output : torch.Size([13, 42, 100]), Encoder hidden shape : torch.Size([1, 13, 100])\n",
            "Decoder output : torch.Size([13, 1, 100]), Decoder hidden shape :torch.Size([1, 13, 100])\n",
            "\tTrain Loss: 0.759 | Train Acc: 69.12%\n",
            "\t Val. Loss: 0.776 |  Val. Acc: 68.30% \n",
            "\n",
            "Encoder output : torch.Size([32, 35, 100]), Encoder hidden shape : torch.Size([1, 32, 100])\n",
            "Decoder output : torch.Size([32, 1, 100]), Decoder hidden shape :torch.Size([1, 32, 100])\n",
            "Encoder output : torch.Size([7, 45, 100]), Encoder hidden shape : torch.Size([1, 7, 100])\n",
            "Decoder output : torch.Size([7, 1, 100]), Decoder hidden shape :torch.Size([1, 7, 100])\n",
            "Encoder output : torch.Size([32, 28, 100]), Encoder hidden shape : torch.Size([1, 32, 100])\n",
            "Decoder output : torch.Size([32, 1, 100]), Decoder hidden shape :torch.Size([1, 32, 100])\n",
            "Encoder output : torch.Size([32, 32, 100]), Encoder hidden shape : torch.Size([1, 32, 100])\n",
            "Decoder output : torch.Size([32, 1, 100]), Decoder hidden shape :torch.Size([1, 32, 100])\n",
            "Encoder output : torch.Size([32, 12, 100]), Encoder hidden shape : torch.Size([1, 32, 100])\n",
            "Decoder output : torch.Size([32, 1, 100]), Decoder hidden shape :torch.Size([1, 32, 100])\n",
            "Encoder output : torch.Size([32, 16, 100]), Encoder hidden shape : torch.Size([1, 32, 100])\n",
            "Decoder output : torch.Size([32, 1, 100]), Decoder hidden shape :torch.Size([1, 32, 100])\n",
            "Encoder output : torch.Size([32, 37, 100]), Encoder hidden shape : torch.Size([1, 32, 100])\n",
            "Decoder output : torch.Size([32, 1, 100]), Decoder hidden shape :torch.Size([1, 32, 100])\n",
            "Encoder output : torch.Size([32, 42, 100]), Encoder hidden shape : torch.Size([1, 32, 100])\n",
            "Decoder output : torch.Size([32, 1, 100]), Decoder hidden shape :torch.Size([1, 32, 100])\n",
            "Encoder output : torch.Size([32, 28, 100]), Encoder hidden shape : torch.Size([1, 32, 100])\n",
            "Decoder output : torch.Size([32, 1, 100]), Decoder hidden shape :torch.Size([1, 32, 100])\n",
            "Encoder output : torch.Size([32, 18, 100]), Encoder hidden shape : torch.Size([1, 32, 100])\n",
            "Decoder output : torch.Size([32, 1, 100]), Decoder hidden shape :torch.Size([1, 32, 100])\n",
            "Encoder output : torch.Size([32, 42, 100]), Encoder hidden shape : torch.Size([1, 32, 100])\n",
            "Decoder output : torch.Size([32, 1, 100]), Decoder hidden shape :torch.Size([1, 32, 100])\n",
            "Encoder output : torch.Size([32, 20, 100]), Encoder hidden shape : torch.Size([1, 32, 100])\n",
            "Decoder output : torch.Size([32, 1, 100]), Decoder hidden shape :torch.Size([1, 32, 100])\n",
            "Encoder output : torch.Size([32, 29, 100]), Encoder hidden shape : torch.Size([1, 32, 100])\n",
            "Decoder output : torch.Size([32, 1, 100]), Decoder hidden shape :torch.Size([1, 32, 100])\n",
            "Encoder output : torch.Size([32, 15, 100]), Encoder hidden shape : torch.Size([1, 32, 100])\n",
            "Decoder output : torch.Size([32, 1, 100]), Decoder hidden shape :torch.Size([1, 32, 100])\n",
            "Encoder output : torch.Size([32, 17, 100]), Encoder hidden shape : torch.Size([1, 32, 100])\n",
            "Decoder output : torch.Size([32, 1, 100]), Decoder hidden shape :torch.Size([1, 32, 100])\n",
            "Encoder output : torch.Size([32, 13, 100]), Encoder hidden shape : torch.Size([1, 32, 100])\n",
            "Decoder output : torch.Size([32, 1, 100]), Decoder hidden shape :torch.Size([1, 32, 100])\n",
            "Encoder output : torch.Size([32, 21, 100]), Encoder hidden shape : torch.Size([1, 32, 100])\n",
            "Decoder output : torch.Size([32, 1, 100]), Decoder hidden shape :torch.Size([1, 32, 100])\n",
            "Encoder output : torch.Size([32, 27, 100]), Encoder hidden shape : torch.Size([1, 32, 100])\n",
            "Decoder output : torch.Size([32, 1, 100]), Decoder hidden shape :torch.Size([1, 32, 100])\n",
            "Encoder output : torch.Size([32, 12, 100]), Encoder hidden shape : torch.Size([1, 32, 100])\n",
            "Decoder output : torch.Size([32, 1, 100]), Decoder hidden shape :torch.Size([1, 32, 100])\n",
            "Encoder output : torch.Size([32, 22, 100]), Encoder hidden shape : torch.Size([1, 32, 100])\n",
            "Decoder output : torch.Size([32, 1, 100]), Decoder hidden shape :torch.Size([1, 32, 100])\n",
            "Encoder output : torch.Size([32, 42, 100]), Encoder hidden shape : torch.Size([1, 32, 100])\n",
            "Decoder output : torch.Size([32, 1, 100]), Decoder hidden shape :torch.Size([1, 32, 100])\n",
            "Encoder output : torch.Size([32, 31, 100]), Encoder hidden shape : torch.Size([1, 32, 100])\n",
            "Decoder output : torch.Size([32, 1, 100]), Decoder hidden shape :torch.Size([1, 32, 100])\n",
            "Encoder output : torch.Size([32, 30, 100]), Encoder hidden shape : torch.Size([1, 32, 100])\n",
            "Decoder output : torch.Size([32, 1, 100]), Decoder hidden shape :torch.Size([1, 32, 100])\n",
            "Encoder output : torch.Size([32, 19, 100]), Encoder hidden shape : torch.Size([1, 32, 100])\n",
            "Decoder output : torch.Size([32, 1, 100]), Decoder hidden shape :torch.Size([1, 32, 100])\n",
            "Encoder output : torch.Size([32, 16, 100]), Encoder hidden shape : torch.Size([1, 32, 100])\n",
            "Decoder output : torch.Size([32, 1, 100]), Decoder hidden shape :torch.Size([1, 32, 100])\n",
            "Encoder output : torch.Size([32, 26, 100]), Encoder hidden shape : torch.Size([1, 32, 100])\n",
            "Decoder output : torch.Size([32, 1, 100]), Decoder hidden shape :torch.Size([1, 32, 100])\n",
            "Encoder output : torch.Size([32, 21, 100]), Encoder hidden shape : torch.Size([1, 32, 100])\n",
            "Decoder output : torch.Size([32, 1, 100]), Decoder hidden shape :torch.Size([1, 32, 100])\n",
            "Encoder output : torch.Size([32, 8, 100]), Encoder hidden shape : torch.Size([1, 32, 100])\n",
            "Decoder output : torch.Size([32, 1, 100]), Decoder hidden shape :torch.Size([1, 32, 100])\n",
            "Encoder output : torch.Size([32, 25, 100]), Encoder hidden shape : torch.Size([1, 32, 100])\n",
            "Decoder output : torch.Size([32, 1, 100]), Decoder hidden shape :torch.Size([1, 32, 100])\n",
            "Encoder output : torch.Size([32, 27, 100]), Encoder hidden shape : torch.Size([1, 32, 100])\n",
            "Decoder output : torch.Size([32, 1, 100]), Decoder hidden shape :torch.Size([1, 32, 100])\n",
            "Encoder output : torch.Size([32, 24, 100]), Encoder hidden shape : torch.Size([1, 32, 100])\n",
            "Decoder output : torch.Size([32, 1, 100]), Decoder hidden shape :torch.Size([1, 32, 100])\n",
            "Encoder output : torch.Size([32, 31, 100]), Encoder hidden shape : torch.Size([1, 32, 100])\n",
            "Decoder output : torch.Size([32, 1, 100]), Decoder hidden shape :torch.Size([1, 32, 100])\n",
            "Encoder output : torch.Size([32, 33, 100]), Encoder hidden shape : torch.Size([1, 32, 100])\n",
            "Decoder output : torch.Size([32, 1, 100]), Decoder hidden shape :torch.Size([1, 32, 100])\n",
            "Encoder output : torch.Size([32, 23, 100]), Encoder hidden shape : torch.Size([1, 32, 100])\n",
            "Decoder output : torch.Size([32, 1, 100]), Decoder hidden shape :torch.Size([1, 32, 100])\n",
            "Encoder output : torch.Size([32, 25, 100]), Encoder hidden shape : torch.Size([1, 32, 100])\n",
            "Decoder output : torch.Size([32, 1, 100]), Decoder hidden shape :torch.Size([1, 32, 100])\n",
            "Encoder output : torch.Size([32, 29, 100]), Encoder hidden shape : torch.Size([1, 32, 100])\n",
            "Decoder output : torch.Size([32, 1, 100]), Decoder hidden shape :torch.Size([1, 32, 100])\n",
            "Encoder output : torch.Size([32, 10, 100]), Encoder hidden shape : torch.Size([1, 32, 100])\n",
            "Decoder output : torch.Size([32, 1, 100]), Decoder hidden shape :torch.Size([1, 32, 100])\n",
            "Encoder output : torch.Size([32, 13, 100]), Encoder hidden shape : torch.Size([1, 32, 100])\n",
            "Decoder output : torch.Size([32, 1, 100]), Decoder hidden shape :torch.Size([1, 32, 100])\n",
            "Encoder output : torch.Size([32, 18, 100]), Encoder hidden shape : torch.Size([1, 32, 100])\n",
            "Decoder output : torch.Size([32, 1, 100]), Decoder hidden shape :torch.Size([1, 32, 100])\n",
            "Encoder output : torch.Size([32, 23, 100]), Encoder hidden shape : torch.Size([1, 32, 100])\n",
            "Decoder output : torch.Size([32, 1, 100]), Decoder hidden shape :torch.Size([1, 32, 100])\n",
            "Encoder output : torch.Size([32, 27, 100]), Encoder hidden shape : torch.Size([1, 32, 100])\n",
            "Decoder output : torch.Size([32, 1, 100]), Decoder hidden shape :torch.Size([1, 32, 100])\n",
            "Encoder output : torch.Size([32, 31, 100]), Encoder hidden shape : torch.Size([1, 32, 100])\n",
            "Decoder output : torch.Size([32, 1, 100]), Decoder hidden shape :torch.Size([1, 32, 100])\n",
            "Encoder output : torch.Size([32, 42, 100]), Encoder hidden shape : torch.Size([1, 32, 100])\n",
            "Decoder output : torch.Size([32, 1, 100]), Decoder hidden shape :torch.Size([1, 32, 100])\n",
            "Encoder output : torch.Size([13, 42, 100]), Encoder hidden shape : torch.Size([1, 13, 100])\n",
            "Decoder output : torch.Size([13, 1, 100]), Decoder hidden shape :torch.Size([1, 13, 100])\n",
            "\tTrain Loss: 0.742 | Train Acc: 69.12%\n",
            "\t Val. Loss: 0.755 |  Val. Acc: 68.30% \n",
            "\n",
            "Encoder output : torch.Size([32, 29, 100]), Encoder hidden shape : torch.Size([1, 32, 100])\n",
            "Decoder output : torch.Size([32, 1, 100]), Decoder hidden shape :torch.Size([1, 32, 100])\n",
            "Encoder output : torch.Size([32, 16, 100]), Encoder hidden shape : torch.Size([1, 32, 100])\n",
            "Decoder output : torch.Size([32, 1, 100]), Decoder hidden shape :torch.Size([1, 32, 100])\n",
            "Encoder output : torch.Size([32, 16, 100]), Encoder hidden shape : torch.Size([1, 32, 100])\n",
            "Decoder output : torch.Size([32, 1, 100]), Decoder hidden shape :torch.Size([1, 32, 100])\n",
            "Encoder output : torch.Size([32, 42, 100]), Encoder hidden shape : torch.Size([1, 32, 100])\n",
            "Decoder output : torch.Size([32, 1, 100]), Decoder hidden shape :torch.Size([1, 32, 100])\n",
            "Encoder output : torch.Size([32, 20, 100]), Encoder hidden shape : torch.Size([1, 32, 100])\n",
            "Decoder output : torch.Size([32, 1, 100]), Decoder hidden shape :torch.Size([1, 32, 100])\n",
            "Encoder output : torch.Size([32, 26, 100]), Encoder hidden shape : torch.Size([1, 32, 100])\n",
            "Decoder output : torch.Size([32, 1, 100]), Decoder hidden shape :torch.Size([1, 32, 100])\n",
            "Encoder output : torch.Size([32, 27, 100]), Encoder hidden shape : torch.Size([1, 32, 100])\n",
            "Decoder output : torch.Size([32, 1, 100]), Decoder hidden shape :torch.Size([1, 32, 100])\n",
            "Encoder output : torch.Size([32, 17, 100]), Encoder hidden shape : torch.Size([1, 32, 100])\n",
            "Decoder output : torch.Size([32, 1, 100]), Decoder hidden shape :torch.Size([1, 32, 100])\n",
            "Encoder output : torch.Size([32, 31, 100]), Encoder hidden shape : torch.Size([1, 32, 100])\n",
            "Decoder output : torch.Size([32, 1, 100]), Decoder hidden shape :torch.Size([1, 32, 100])\n",
            "Encoder output : torch.Size([32, 23, 100]), Encoder hidden shape : torch.Size([1, 32, 100])\n",
            "Decoder output : torch.Size([32, 1, 100]), Decoder hidden shape :torch.Size([1, 32, 100])\n",
            "Encoder output : torch.Size([32, 42, 100]), Encoder hidden shape : torch.Size([1, 32, 100])\n",
            "Decoder output : torch.Size([32, 1, 100]), Decoder hidden shape :torch.Size([1, 32, 100])\n",
            "Encoder output : torch.Size([32, 42, 100]), Encoder hidden shape : torch.Size([1, 32, 100])\n",
            "Decoder output : torch.Size([32, 1, 100]), Decoder hidden shape :torch.Size([1, 32, 100])\n",
            "Encoder output : torch.Size([32, 22, 100]), Encoder hidden shape : torch.Size([1, 32, 100])\n",
            "Decoder output : torch.Size([32, 1, 100]), Decoder hidden shape :torch.Size([1, 32, 100])\n",
            "Encoder output : torch.Size([32, 25, 100]), Encoder hidden shape : torch.Size([1, 32, 100])\n",
            "Decoder output : torch.Size([32, 1, 100]), Decoder hidden shape :torch.Size([1, 32, 100])\n",
            "Encoder output : torch.Size([32, 25, 100]), Encoder hidden shape : torch.Size([1, 32, 100])\n",
            "Decoder output : torch.Size([32, 1, 100]), Decoder hidden shape :torch.Size([1, 32, 100])\n",
            "Encoder output : torch.Size([32, 32, 100]), Encoder hidden shape : torch.Size([1, 32, 100])\n",
            "Decoder output : torch.Size([32, 1, 100]), Decoder hidden shape :torch.Size([1, 32, 100])\n",
            "Encoder output : torch.Size([32, 29, 100]), Encoder hidden shape : torch.Size([1, 32, 100])\n",
            "Decoder output : torch.Size([32, 1, 100]), Decoder hidden shape :torch.Size([1, 32, 100])\n",
            "Encoder output : torch.Size([32, 12, 100]), Encoder hidden shape : torch.Size([1, 32, 100])\n",
            "Decoder output : torch.Size([32, 1, 100]), Decoder hidden shape :torch.Size([1, 32, 100])\n",
            "Encoder output : torch.Size([7, 45, 100]), Encoder hidden shape : torch.Size([1, 7, 100])\n",
            "Decoder output : torch.Size([7, 1, 100]), Decoder hidden shape :torch.Size([1, 7, 100])\n",
            "Encoder output : torch.Size([32, 24, 100]), Encoder hidden shape : torch.Size([1, 32, 100])\n",
            "Decoder output : torch.Size([32, 1, 100]), Decoder hidden shape :torch.Size([1, 32, 100])\n",
            "Encoder output : torch.Size([32, 27, 100]), Encoder hidden shape : torch.Size([1, 32, 100])\n",
            "Decoder output : torch.Size([32, 1, 100]), Decoder hidden shape :torch.Size([1, 32, 100])\n",
            "Encoder output : torch.Size([32, 13, 100]), Encoder hidden shape : torch.Size([1, 32, 100])\n",
            "Decoder output : torch.Size([32, 1, 100]), Decoder hidden shape :torch.Size([1, 32, 100])\n",
            "Encoder output : torch.Size([32, 18, 100]), Encoder hidden shape : torch.Size([1, 32, 100])\n",
            "Decoder output : torch.Size([32, 1, 100]), Decoder hidden shape :torch.Size([1, 32, 100])\n",
            "Encoder output : torch.Size([32, 19, 100]), Encoder hidden shape : torch.Size([1, 32, 100])\n",
            "Decoder output : torch.Size([32, 1, 100]), Decoder hidden shape :torch.Size([1, 32, 100])\n",
            "Encoder output : torch.Size([32, 37, 100]), Encoder hidden shape : torch.Size([1, 32, 100])\n",
            "Decoder output : torch.Size([32, 1, 100]), Decoder hidden shape :torch.Size([1, 32, 100])\n",
            "Encoder output : torch.Size([32, 31, 100]), Encoder hidden shape : torch.Size([1, 32, 100])\n",
            "Decoder output : torch.Size([32, 1, 100]), Decoder hidden shape :torch.Size([1, 32, 100])\n",
            "Encoder output : torch.Size([32, 12, 100]), Encoder hidden shape : torch.Size([1, 32, 100])\n",
            "Decoder output : torch.Size([32, 1, 100]), Decoder hidden shape :torch.Size([1, 32, 100])\n",
            "Encoder output : torch.Size([32, 28, 100]), Encoder hidden shape : torch.Size([1, 32, 100])\n",
            "Decoder output : torch.Size([32, 1, 100]), Decoder hidden shape :torch.Size([1, 32, 100])\n",
            "Encoder output : torch.Size([32, 35, 100]), Encoder hidden shape : torch.Size([1, 32, 100])\n",
            "Decoder output : torch.Size([32, 1, 100]), Decoder hidden shape :torch.Size([1, 32, 100])\n",
            "Encoder output : torch.Size([32, 21, 100]), Encoder hidden shape : torch.Size([1, 32, 100])\n",
            "Decoder output : torch.Size([32, 1, 100]), Decoder hidden shape :torch.Size([1, 32, 100])\n",
            "Encoder output : torch.Size([32, 15, 100]), Encoder hidden shape : torch.Size([1, 32, 100])\n",
            "Decoder output : torch.Size([32, 1, 100]), Decoder hidden shape :torch.Size([1, 32, 100])\n",
            "Encoder output : torch.Size([32, 33, 100]), Encoder hidden shape : torch.Size([1, 32, 100])\n",
            "Decoder output : torch.Size([32, 1, 100]), Decoder hidden shape :torch.Size([1, 32, 100])\n",
            "Encoder output : torch.Size([32, 10, 100]), Encoder hidden shape : torch.Size([1, 32, 100])\n",
            "Decoder output : torch.Size([32, 1, 100]), Decoder hidden shape :torch.Size([1, 32, 100])\n",
            "Encoder output : torch.Size([32, 30, 100]), Encoder hidden shape : torch.Size([1, 32, 100])\n",
            "Decoder output : torch.Size([32, 1, 100]), Decoder hidden shape :torch.Size([1, 32, 100])\n",
            "Encoder output : torch.Size([32, 8, 100]), Encoder hidden shape : torch.Size([1, 32, 100])\n",
            "Decoder output : torch.Size([32, 1, 100]), Decoder hidden shape :torch.Size([1, 32, 100])\n",
            "Encoder output : torch.Size([32, 21, 100]), Encoder hidden shape : torch.Size([1, 32, 100])\n",
            "Decoder output : torch.Size([32, 1, 100]), Decoder hidden shape :torch.Size([1, 32, 100])\n",
            "Encoder output : torch.Size([32, 28, 100]), Encoder hidden shape : torch.Size([1, 32, 100])\n",
            "Decoder output : torch.Size([32, 1, 100]), Decoder hidden shape :torch.Size([1, 32, 100])\n",
            "Encoder output : torch.Size([32, 13, 100]), Encoder hidden shape : torch.Size([1, 32, 100])\n",
            "Decoder output : torch.Size([32, 1, 100]), Decoder hidden shape :torch.Size([1, 32, 100])\n",
            "Encoder output : torch.Size([32, 18, 100]), Encoder hidden shape : torch.Size([1, 32, 100])\n",
            "Decoder output : torch.Size([32, 1, 100]), Decoder hidden shape :torch.Size([1, 32, 100])\n",
            "Encoder output : torch.Size([32, 23, 100]), Encoder hidden shape : torch.Size([1, 32, 100])\n",
            "Decoder output : torch.Size([32, 1, 100]), Decoder hidden shape :torch.Size([1, 32, 100])\n",
            "Encoder output : torch.Size([32, 27, 100]), Encoder hidden shape : torch.Size([1, 32, 100])\n",
            "Decoder output : torch.Size([32, 1, 100]), Decoder hidden shape :torch.Size([1, 32, 100])\n",
            "Encoder output : torch.Size([32, 31, 100]), Encoder hidden shape : torch.Size([1, 32, 100])\n",
            "Decoder output : torch.Size([32, 1, 100]), Decoder hidden shape :torch.Size([1, 32, 100])\n",
            "Encoder output : torch.Size([32, 42, 100]), Encoder hidden shape : torch.Size([1, 32, 100])\n",
            "Decoder output : torch.Size([32, 1, 100]), Decoder hidden shape :torch.Size([1, 32, 100])\n",
            "Encoder output : torch.Size([13, 42, 100]), Encoder hidden shape : torch.Size([1, 13, 100])\n",
            "Decoder output : torch.Size([13, 1, 100]), Decoder hidden shape :torch.Size([1, 13, 100])\n",
            "\tTrain Loss: 0.708 | Train Acc: 69.12%\n",
            "\t Val. Loss: 0.749 |  Val. Acc: 68.30% \n",
            "\n",
            "Encoder output : torch.Size([32, 37, 100]), Encoder hidden shape : torch.Size([1, 32, 100])\n",
            "Decoder output : torch.Size([32, 1, 100]), Decoder hidden shape :torch.Size([1, 32, 100])\n",
            "Encoder output : torch.Size([32, 32, 100]), Encoder hidden shape : torch.Size([1, 32, 100])\n",
            "Decoder output : torch.Size([32, 1, 100]), Decoder hidden shape :torch.Size([1, 32, 100])\n",
            "Encoder output : torch.Size([32, 16, 100]), Encoder hidden shape : torch.Size([1, 32, 100])\n",
            "Decoder output : torch.Size([32, 1, 100]), Decoder hidden shape :torch.Size([1, 32, 100])\n",
            "Encoder output : torch.Size([32, 12, 100]), Encoder hidden shape : torch.Size([1, 32, 100])\n",
            "Decoder output : torch.Size([32, 1, 100]), Decoder hidden shape :torch.Size([1, 32, 100])\n",
            "Encoder output : torch.Size([32, 28, 100]), Encoder hidden shape : torch.Size([1, 32, 100])\n",
            "Decoder output : torch.Size([32, 1, 100]), Decoder hidden shape :torch.Size([1, 32, 100])\n",
            "Encoder output : torch.Size([32, 8, 100]), Encoder hidden shape : torch.Size([1, 32, 100])\n",
            "Decoder output : torch.Size([32, 1, 100]), Decoder hidden shape :torch.Size([1, 32, 100])\n",
            "Encoder output : torch.Size([32, 18, 100]), Encoder hidden shape : torch.Size([1, 32, 100])\n",
            "Decoder output : torch.Size([32, 1, 100]), Decoder hidden shape :torch.Size([1, 32, 100])\n",
            "Encoder output : torch.Size([32, 22, 100]), Encoder hidden shape : torch.Size([1, 32, 100])\n",
            "Decoder output : torch.Size([32, 1, 100]), Decoder hidden shape :torch.Size([1, 32, 100])\n",
            "Encoder output : torch.Size([32, 42, 100]), Encoder hidden shape : torch.Size([1, 32, 100])\n",
            "Decoder output : torch.Size([32, 1, 100]), Decoder hidden shape :torch.Size([1, 32, 100])\n",
            "Encoder output : torch.Size([32, 20, 100]), Encoder hidden shape : torch.Size([1, 32, 100])\n",
            "Decoder output : torch.Size([32, 1, 100]), Decoder hidden shape :torch.Size([1, 32, 100])\n",
            "Encoder output : torch.Size([32, 19, 100]), Encoder hidden shape : torch.Size([1, 32, 100])\n",
            "Decoder output : torch.Size([32, 1, 100]), Decoder hidden shape :torch.Size([1, 32, 100])\n",
            "Encoder output : torch.Size([32, 31, 100]), Encoder hidden shape : torch.Size([1, 32, 100])\n",
            "Decoder output : torch.Size([32, 1, 100]), Decoder hidden shape :torch.Size([1, 32, 100])\n",
            "Encoder output : torch.Size([32, 25, 100]), Encoder hidden shape : torch.Size([1, 32, 100])\n",
            "Decoder output : torch.Size([32, 1, 100]), Decoder hidden shape :torch.Size([1, 32, 100])\n",
            "Encoder output : torch.Size([7, 45, 100]), Encoder hidden shape : torch.Size([1, 7, 100])\n",
            "Decoder output : torch.Size([7, 1, 100]), Decoder hidden shape :torch.Size([1, 7, 100])\n",
            "Encoder output : torch.Size([32, 16, 100]), Encoder hidden shape : torch.Size([1, 32, 100])\n",
            "Decoder output : torch.Size([32, 1, 100]), Decoder hidden shape :torch.Size([1, 32, 100])\n",
            "Encoder output : torch.Size([32, 21, 100]), Encoder hidden shape : torch.Size([1, 32, 100])\n",
            "Decoder output : torch.Size([32, 1, 100]), Decoder hidden shape :torch.Size([1, 32, 100])\n",
            "Encoder output : torch.Size([32, 35, 100]), Encoder hidden shape : torch.Size([1, 32, 100])\n",
            "Decoder output : torch.Size([32, 1, 100]), Decoder hidden shape :torch.Size([1, 32, 100])\n",
            "Encoder output : torch.Size([32, 30, 100]), Encoder hidden shape : torch.Size([1, 32, 100])\n",
            "Decoder output : torch.Size([32, 1, 100]), Decoder hidden shape :torch.Size([1, 32, 100])\n",
            "Encoder output : torch.Size([32, 23, 100]), Encoder hidden shape : torch.Size([1, 32, 100])\n",
            "Decoder output : torch.Size([32, 1, 100]), Decoder hidden shape :torch.Size([1, 32, 100])\n",
            "Encoder output : torch.Size([32, 24, 100]), Encoder hidden shape : torch.Size([1, 32, 100])\n",
            "Decoder output : torch.Size([32, 1, 100]), Decoder hidden shape :torch.Size([1, 32, 100])\n",
            "Encoder output : torch.Size([32, 42, 100]), Encoder hidden shape : torch.Size([1, 32, 100])\n",
            "Decoder output : torch.Size([32, 1, 100]), Decoder hidden shape :torch.Size([1, 32, 100])\n",
            "Encoder output : torch.Size([32, 31, 100]), Encoder hidden shape : torch.Size([1, 32, 100])\n",
            "Decoder output : torch.Size([32, 1, 100]), Decoder hidden shape :torch.Size([1, 32, 100])\n",
            "Encoder output : torch.Size([32, 15, 100]), Encoder hidden shape : torch.Size([1, 32, 100])\n",
            "Decoder output : torch.Size([32, 1, 100]), Decoder hidden shape :torch.Size([1, 32, 100])\n",
            "Encoder output : torch.Size([32, 17, 100]), Encoder hidden shape : torch.Size([1, 32, 100])\n",
            "Decoder output : torch.Size([32, 1, 100]), Decoder hidden shape :torch.Size([1, 32, 100])\n",
            "Encoder output : torch.Size([32, 29, 100]), Encoder hidden shape : torch.Size([1, 32, 100])\n",
            "Decoder output : torch.Size([32, 1, 100]), Decoder hidden shape :torch.Size([1, 32, 100])\n",
            "Encoder output : torch.Size([32, 21, 100]), Encoder hidden shape : torch.Size([1, 32, 100])\n",
            "Decoder output : torch.Size([32, 1, 100]), Decoder hidden shape :torch.Size([1, 32, 100])\n",
            "Encoder output : torch.Size([32, 27, 100]), Encoder hidden shape : torch.Size([1, 32, 100])\n",
            "Decoder output : torch.Size([32, 1, 100]), Decoder hidden shape :torch.Size([1, 32, 100])\n",
            "Encoder output : torch.Size([32, 28, 100]), Encoder hidden shape : torch.Size([1, 32, 100])\n",
            "Decoder output : torch.Size([32, 1, 100]), Decoder hidden shape :torch.Size([1, 32, 100])\n",
            "Encoder output : torch.Size([32, 10, 100]), Encoder hidden shape : torch.Size([1, 32, 100])\n",
            "Decoder output : torch.Size([32, 1, 100]), Decoder hidden shape :torch.Size([1, 32, 100])\n",
            "Encoder output : torch.Size([32, 42, 100]), Encoder hidden shape : torch.Size([1, 32, 100])\n",
            "Decoder output : torch.Size([32, 1, 100]), Decoder hidden shape :torch.Size([1, 32, 100])\n",
            "Encoder output : torch.Size([32, 33, 100]), Encoder hidden shape : torch.Size([1, 32, 100])\n",
            "Decoder output : torch.Size([32, 1, 100]), Decoder hidden shape :torch.Size([1, 32, 100])\n",
            "Encoder output : torch.Size([32, 25, 100]), Encoder hidden shape : torch.Size([1, 32, 100])\n",
            "Decoder output : torch.Size([32, 1, 100]), Decoder hidden shape :torch.Size([1, 32, 100])\n",
            "Encoder output : torch.Size([32, 26, 100]), Encoder hidden shape : torch.Size([1, 32, 100])\n",
            "Decoder output : torch.Size([32, 1, 100]), Decoder hidden shape :torch.Size([1, 32, 100])\n",
            "Encoder output : torch.Size([32, 13, 100]), Encoder hidden shape : torch.Size([1, 32, 100])\n",
            "Decoder output : torch.Size([32, 1, 100]), Decoder hidden shape :torch.Size([1, 32, 100])\n",
            "Encoder output : torch.Size([32, 27, 100]), Encoder hidden shape : torch.Size([1, 32, 100])\n",
            "Decoder output : torch.Size([32, 1, 100]), Decoder hidden shape :torch.Size([1, 32, 100])\n",
            "Encoder output : torch.Size([32, 12, 100]), Encoder hidden shape : torch.Size([1, 32, 100])\n",
            "Decoder output : torch.Size([32, 1, 100]), Decoder hidden shape :torch.Size([1, 32, 100])\n",
            "Encoder output : torch.Size([32, 29, 100]), Encoder hidden shape : torch.Size([1, 32, 100])\n",
            "Decoder output : torch.Size([32, 1, 100]), Decoder hidden shape :torch.Size([1, 32, 100])\n",
            "Encoder output : torch.Size([32, 13, 100]), Encoder hidden shape : torch.Size([1, 32, 100])\n",
            "Decoder output : torch.Size([32, 1, 100]), Decoder hidden shape :torch.Size([1, 32, 100])\n",
            "Encoder output : torch.Size([32, 18, 100]), Encoder hidden shape : torch.Size([1, 32, 100])\n",
            "Decoder output : torch.Size([32, 1, 100]), Decoder hidden shape :torch.Size([1, 32, 100])\n",
            "Encoder output : torch.Size([32, 23, 100]), Encoder hidden shape : torch.Size([1, 32, 100])\n",
            "Decoder output : torch.Size([32, 1, 100]), Decoder hidden shape :torch.Size([1, 32, 100])\n",
            "Encoder output : torch.Size([32, 27, 100]), Encoder hidden shape : torch.Size([1, 32, 100])\n",
            "Decoder output : torch.Size([32, 1, 100]), Decoder hidden shape :torch.Size([1, 32, 100])\n",
            "Encoder output : torch.Size([32, 31, 100]), Encoder hidden shape : torch.Size([1, 32, 100])\n",
            "Decoder output : torch.Size([32, 1, 100]), Decoder hidden shape :torch.Size([1, 32, 100])\n",
            "Encoder output : torch.Size([32, 42, 100]), Encoder hidden shape : torch.Size([1, 32, 100])\n",
            "Decoder output : torch.Size([32, 1, 100]), Decoder hidden shape :torch.Size([1, 32, 100])\n",
            "Encoder output : torch.Size([13, 42, 100]), Encoder hidden shape : torch.Size([1, 13, 100])\n",
            "Decoder output : torch.Size([13, 1, 100]), Decoder hidden shape :torch.Size([1, 13, 100])\n",
            "\tTrain Loss: 0.662 | Train Acc: 74.02%\n",
            "\t Val. Loss: 0.758 |  Val. Acc: 71.43% \n",
            "\n",
            "Encoder output : torch.Size([32, 19, 100]), Encoder hidden shape : torch.Size([1, 32, 100])\n",
            "Decoder output : torch.Size([32, 1, 100]), Decoder hidden shape :torch.Size([1, 32, 100])\n",
            "Encoder output : torch.Size([32, 27, 100]), Encoder hidden shape : torch.Size([1, 32, 100])\n",
            "Decoder output : torch.Size([32, 1, 100]), Decoder hidden shape :torch.Size([1, 32, 100])\n",
            "Encoder output : torch.Size([32, 29, 100]), Encoder hidden shape : torch.Size([1, 32, 100])\n",
            "Decoder output : torch.Size([32, 1, 100]), Decoder hidden shape :torch.Size([1, 32, 100])\n",
            "Encoder output : torch.Size([32, 25, 100]), Encoder hidden shape : torch.Size([1, 32, 100])\n",
            "Decoder output : torch.Size([32, 1, 100]), Decoder hidden shape :torch.Size([1, 32, 100])\n",
            "Encoder output : torch.Size([32, 8, 100]), Encoder hidden shape : torch.Size([1, 32, 100])\n",
            "Decoder output : torch.Size([32, 1, 100]), Decoder hidden shape :torch.Size([1, 32, 100])\n",
            "Encoder output : torch.Size([32, 29, 100]), Encoder hidden shape : torch.Size([1, 32, 100])\n",
            "Decoder output : torch.Size([32, 1, 100]), Decoder hidden shape :torch.Size([1, 32, 100])\n",
            "Encoder output : torch.Size([32, 15, 100]), Encoder hidden shape : torch.Size([1, 32, 100])\n",
            "Decoder output : torch.Size([32, 1, 100]), Decoder hidden shape :torch.Size([1, 32, 100])\n",
            "Encoder output : torch.Size([32, 31, 100]), Encoder hidden shape : torch.Size([1, 32, 100])\n",
            "Decoder output : torch.Size([32, 1, 100]), Decoder hidden shape :torch.Size([1, 32, 100])\n",
            "Encoder output : torch.Size([32, 13, 100]), Encoder hidden shape : torch.Size([1, 32, 100])\n",
            "Decoder output : torch.Size([32, 1, 100]), Decoder hidden shape :torch.Size([1, 32, 100])\n",
            "Encoder output : torch.Size([32, 26, 100]), Encoder hidden shape : torch.Size([1, 32, 100])\n",
            "Decoder output : torch.Size([32, 1, 100]), Decoder hidden shape :torch.Size([1, 32, 100])\n",
            "Encoder output : torch.Size([32, 42, 100]), Encoder hidden shape : torch.Size([1, 32, 100])\n",
            "Decoder output : torch.Size([32, 1, 100]), Decoder hidden shape :torch.Size([1, 32, 100])\n",
            "Encoder output : torch.Size([32, 10, 100]), Encoder hidden shape : torch.Size([1, 32, 100])\n",
            "Decoder output : torch.Size([32, 1, 100]), Decoder hidden shape :torch.Size([1, 32, 100])\n",
            "Encoder output : torch.Size([32, 12, 100]), Encoder hidden shape : torch.Size([1, 32, 100])\n",
            "Decoder output : torch.Size([32, 1, 100]), Decoder hidden shape :torch.Size([1, 32, 100])\n",
            "Encoder output : torch.Size([32, 23, 100]), Encoder hidden shape : torch.Size([1, 32, 100])\n",
            "Decoder output : torch.Size([32, 1, 100]), Decoder hidden shape :torch.Size([1, 32, 100])\n",
            "Encoder output : torch.Size([32, 42, 100]), Encoder hidden shape : torch.Size([1, 32, 100])\n",
            "Decoder output : torch.Size([32, 1, 100]), Decoder hidden shape :torch.Size([1, 32, 100])\n",
            "Encoder output : torch.Size([32, 27, 100]), Encoder hidden shape : torch.Size([1, 32, 100])\n",
            "Decoder output : torch.Size([32, 1, 100]), Decoder hidden shape :torch.Size([1, 32, 100])\n",
            "Encoder output : torch.Size([32, 16, 100]), Encoder hidden shape : torch.Size([1, 32, 100])\n",
            "Decoder output : torch.Size([32, 1, 100]), Decoder hidden shape :torch.Size([1, 32, 100])\n",
            "Encoder output : torch.Size([32, 16, 100]), Encoder hidden shape : torch.Size([1, 32, 100])\n",
            "Decoder output : torch.Size([32, 1, 100]), Decoder hidden shape :torch.Size([1, 32, 100])\n",
            "Encoder output : torch.Size([32, 25, 100]), Encoder hidden shape : torch.Size([1, 32, 100])\n",
            "Decoder output : torch.Size([32, 1, 100]), Decoder hidden shape :torch.Size([1, 32, 100])\n",
            "Encoder output : torch.Size([32, 24, 100]), Encoder hidden shape : torch.Size([1, 32, 100])\n",
            "Decoder output : torch.Size([32, 1, 100]), Decoder hidden shape :torch.Size([1, 32, 100])\n",
            "Encoder output : torch.Size([32, 37, 100]), Encoder hidden shape : torch.Size([1, 32, 100])\n",
            "Decoder output : torch.Size([32, 1, 100]), Decoder hidden shape :torch.Size([1, 32, 100])\n",
            "Encoder output : torch.Size([32, 32, 100]), Encoder hidden shape : torch.Size([1, 32, 100])\n",
            "Decoder output : torch.Size([32, 1, 100]), Decoder hidden shape :torch.Size([1, 32, 100])\n",
            "Encoder output : torch.Size([7, 45, 100]), Encoder hidden shape : torch.Size([1, 7, 100])\n",
            "Decoder output : torch.Size([7, 1, 100]), Decoder hidden shape :torch.Size([1, 7, 100])\n",
            "Encoder output : torch.Size([32, 21, 100]), Encoder hidden shape : torch.Size([1, 32, 100])\n",
            "Decoder output : torch.Size([32, 1, 100]), Decoder hidden shape :torch.Size([1, 32, 100])\n",
            "Encoder output : torch.Size([32, 28, 100]), Encoder hidden shape : torch.Size([1, 32, 100])\n",
            "Decoder output : torch.Size([32, 1, 100]), Decoder hidden shape :torch.Size([1, 32, 100])\n",
            "Encoder output : torch.Size([32, 35, 100]), Encoder hidden shape : torch.Size([1, 32, 100])\n",
            "Decoder output : torch.Size([32, 1, 100]), Decoder hidden shape :torch.Size([1, 32, 100])\n",
            "Encoder output : torch.Size([32, 20, 100]), Encoder hidden shape : torch.Size([1, 32, 100])\n",
            "Decoder output : torch.Size([32, 1, 100]), Decoder hidden shape :torch.Size([1, 32, 100])\n",
            "Encoder output : torch.Size([32, 33, 100]), Encoder hidden shape : torch.Size([1, 32, 100])\n",
            "Decoder output : torch.Size([32, 1, 100]), Decoder hidden shape :torch.Size([1, 32, 100])\n",
            "Encoder output : torch.Size([32, 18, 100]), Encoder hidden shape : torch.Size([1, 32, 100])\n",
            "Decoder output : torch.Size([32, 1, 100]), Decoder hidden shape :torch.Size([1, 32, 100])\n",
            "Encoder output : torch.Size([32, 30, 100]), Encoder hidden shape : torch.Size([1, 32, 100])\n",
            "Decoder output : torch.Size([32, 1, 100]), Decoder hidden shape :torch.Size([1, 32, 100])\n",
            "Encoder output : torch.Size([32, 28, 100]), Encoder hidden shape : torch.Size([1, 32, 100])\n",
            "Decoder output : torch.Size([32, 1, 100]), Decoder hidden shape :torch.Size([1, 32, 100])\n",
            "Encoder output : torch.Size([32, 42, 100]), Encoder hidden shape : torch.Size([1, 32, 100])\n",
            "Decoder output : torch.Size([32, 1, 100]), Decoder hidden shape :torch.Size([1, 32, 100])\n",
            "Encoder output : torch.Size([32, 17, 100]), Encoder hidden shape : torch.Size([1, 32, 100])\n",
            "Decoder output : torch.Size([32, 1, 100]), Decoder hidden shape :torch.Size([1, 32, 100])\n",
            "Encoder output : torch.Size([32, 12, 100]), Encoder hidden shape : torch.Size([1, 32, 100])\n",
            "Decoder output : torch.Size([32, 1, 100]), Decoder hidden shape :torch.Size([1, 32, 100])\n",
            "Encoder output : torch.Size([32, 22, 100]), Encoder hidden shape : torch.Size([1, 32, 100])\n",
            "Decoder output : torch.Size([32, 1, 100]), Decoder hidden shape :torch.Size([1, 32, 100])\n",
            "Encoder output : torch.Size([32, 21, 100]), Encoder hidden shape : torch.Size([1, 32, 100])\n",
            "Decoder output : torch.Size([32, 1, 100]), Decoder hidden shape :torch.Size([1, 32, 100])\n",
            "Encoder output : torch.Size([32, 31, 100]), Encoder hidden shape : torch.Size([1, 32, 100])\n",
            "Decoder output : torch.Size([32, 1, 100]), Decoder hidden shape :torch.Size([1, 32, 100])\n",
            "Encoder output : torch.Size([32, 13, 100]), Encoder hidden shape : torch.Size([1, 32, 100])\n",
            "Decoder output : torch.Size([32, 1, 100]), Decoder hidden shape :torch.Size([1, 32, 100])\n",
            "Encoder output : torch.Size([32, 18, 100]), Encoder hidden shape : torch.Size([1, 32, 100])\n",
            "Decoder output : torch.Size([32, 1, 100]), Decoder hidden shape :torch.Size([1, 32, 100])\n",
            "Encoder output : torch.Size([32, 23, 100]), Encoder hidden shape : torch.Size([1, 32, 100])\n",
            "Decoder output : torch.Size([32, 1, 100]), Decoder hidden shape :torch.Size([1, 32, 100])\n",
            "Encoder output : torch.Size([32, 27, 100]), Encoder hidden shape : torch.Size([1, 32, 100])\n",
            "Decoder output : torch.Size([32, 1, 100]), Decoder hidden shape :torch.Size([1, 32, 100])\n",
            "Encoder output : torch.Size([32, 31, 100]), Encoder hidden shape : torch.Size([1, 32, 100])\n",
            "Decoder output : torch.Size([32, 1, 100]), Decoder hidden shape :torch.Size([1, 32, 100])\n",
            "Encoder output : torch.Size([32, 42, 100]), Encoder hidden shape : torch.Size([1, 32, 100])\n",
            "Decoder output : torch.Size([32, 1, 100]), Decoder hidden shape :torch.Size([1, 32, 100])\n",
            "Encoder output : torch.Size([13, 42, 100]), Encoder hidden shape : torch.Size([1, 13, 100])\n",
            "Decoder output : torch.Size([13, 1, 100]), Decoder hidden shape :torch.Size([1, 13, 100])\n",
            "\tTrain Loss: 0.598 | Train Acc: 77.45%\n",
            "\t Val. Loss: 0.668 |  Val. Acc: 75.89% \n",
            "\n",
            "Encoder output : torch.Size([32, 31, 100]), Encoder hidden shape : torch.Size([1, 32, 100])\n",
            "Decoder output : torch.Size([32, 1, 100]), Decoder hidden shape :torch.Size([1, 32, 100])\n",
            "Encoder output : torch.Size([32, 28, 100]), Encoder hidden shape : torch.Size([1, 32, 100])\n",
            "Decoder output : torch.Size([32, 1, 100]), Decoder hidden shape :torch.Size([1, 32, 100])\n",
            "Encoder output : torch.Size([32, 13, 100]), Encoder hidden shape : torch.Size([1, 32, 100])\n",
            "Decoder output : torch.Size([32, 1, 100]), Decoder hidden shape :torch.Size([1, 32, 100])\n",
            "Encoder output : torch.Size([32, 22, 100]), Encoder hidden shape : torch.Size([1, 32, 100])\n",
            "Decoder output : torch.Size([32, 1, 100]), Decoder hidden shape :torch.Size([1, 32, 100])\n",
            "Encoder output : torch.Size([7, 45, 100]), Encoder hidden shape : torch.Size([1, 7, 100])\n",
            "Decoder output : torch.Size([7, 1, 100]), Decoder hidden shape :torch.Size([1, 7, 100])\n",
            "Encoder output : torch.Size([32, 27, 100]), Encoder hidden shape : torch.Size([1, 32, 100])\n",
            "Decoder output : torch.Size([32, 1, 100]), Decoder hidden shape :torch.Size([1, 32, 100])\n",
            "Encoder output : torch.Size([32, 20, 100]), Encoder hidden shape : torch.Size([1, 32, 100])\n",
            "Decoder output : torch.Size([32, 1, 100]), Decoder hidden shape :torch.Size([1, 32, 100])\n",
            "Encoder output : torch.Size([32, 16, 100]), Encoder hidden shape : torch.Size([1, 32, 100])\n",
            "Decoder output : torch.Size([32, 1, 100]), Decoder hidden shape :torch.Size([1, 32, 100])\n",
            "Encoder output : torch.Size([32, 30, 100]), Encoder hidden shape : torch.Size([1, 32, 100])\n",
            "Decoder output : torch.Size([32, 1, 100]), Decoder hidden shape :torch.Size([1, 32, 100])\n",
            "Encoder output : torch.Size([32, 18, 100]), Encoder hidden shape : torch.Size([1, 32, 100])\n",
            "Decoder output : torch.Size([32, 1, 100]), Decoder hidden shape :torch.Size([1, 32, 100])\n",
            "Encoder output : torch.Size([32, 8, 100]), Encoder hidden shape : torch.Size([1, 32, 100])\n",
            "Decoder output : torch.Size([32, 1, 100]), Decoder hidden shape :torch.Size([1, 32, 100])\n",
            "Encoder output : torch.Size([32, 42, 100]), Encoder hidden shape : torch.Size([1, 32, 100])\n",
            "Decoder output : torch.Size([32, 1, 100]), Decoder hidden shape :torch.Size([1, 32, 100])\n",
            "Encoder output : torch.Size([32, 21, 100]), Encoder hidden shape : torch.Size([1, 32, 100])\n",
            "Decoder output : torch.Size([32, 1, 100]), Decoder hidden shape :torch.Size([1, 32, 100])\n",
            "Encoder output : torch.Size([32, 12, 100]), Encoder hidden shape : torch.Size([1, 32, 100])\n",
            "Decoder output : torch.Size([32, 1, 100]), Decoder hidden shape :torch.Size([1, 32, 100])\n",
            "Encoder output : torch.Size([32, 29, 100]), Encoder hidden shape : torch.Size([1, 32, 100])\n",
            "Decoder output : torch.Size([32, 1, 100]), Decoder hidden shape :torch.Size([1, 32, 100])\n",
            "Encoder output : torch.Size([32, 26, 100]), Encoder hidden shape : torch.Size([1, 32, 100])\n",
            "Decoder output : torch.Size([32, 1, 100]), Decoder hidden shape :torch.Size([1, 32, 100])\n",
            "Encoder output : torch.Size([32, 16, 100]), Encoder hidden shape : torch.Size([1, 32, 100])\n",
            "Decoder output : torch.Size([32, 1, 100]), Decoder hidden shape :torch.Size([1, 32, 100])\n",
            "Encoder output : torch.Size([32, 24, 100]), Encoder hidden shape : torch.Size([1, 32, 100])\n",
            "Decoder output : torch.Size([32, 1, 100]), Decoder hidden shape :torch.Size([1, 32, 100])\n",
            "Encoder output : torch.Size([32, 15, 100]), Encoder hidden shape : torch.Size([1, 32, 100])\n",
            "Decoder output : torch.Size([32, 1, 100]), Decoder hidden shape :torch.Size([1, 32, 100])\n",
            "Encoder output : torch.Size([32, 35, 100]), Encoder hidden shape : torch.Size([1, 32, 100])\n",
            "Decoder output : torch.Size([32, 1, 100]), Decoder hidden shape :torch.Size([1, 32, 100])\n",
            "Encoder output : torch.Size([32, 42, 100]), Encoder hidden shape : torch.Size([1, 32, 100])\n",
            "Decoder output : torch.Size([32, 1, 100]), Decoder hidden shape :torch.Size([1, 32, 100])\n",
            "Encoder output : torch.Size([32, 32, 100]), Encoder hidden shape : torch.Size([1, 32, 100])\n",
            "Decoder output : torch.Size([32, 1, 100]), Decoder hidden shape :torch.Size([1, 32, 100])\n",
            "Encoder output : torch.Size([32, 17, 100]), Encoder hidden shape : torch.Size([1, 32, 100])\n",
            "Decoder output : torch.Size([32, 1, 100]), Decoder hidden shape :torch.Size([1, 32, 100])\n",
            "Encoder output : torch.Size([32, 25, 100]), Encoder hidden shape : torch.Size([1, 32, 100])\n",
            "Decoder output : torch.Size([32, 1, 100]), Decoder hidden shape :torch.Size([1, 32, 100])\n",
            "Encoder output : torch.Size([32, 42, 100]), Encoder hidden shape : torch.Size([1, 32, 100])\n",
            "Decoder output : torch.Size([32, 1, 100]), Decoder hidden shape :torch.Size([1, 32, 100])\n",
            "Encoder output : torch.Size([32, 37, 100]), Encoder hidden shape : torch.Size([1, 32, 100])\n",
            "Decoder output : torch.Size([32, 1, 100]), Decoder hidden shape :torch.Size([1, 32, 100])\n",
            "Encoder output : torch.Size([32, 25, 100]), Encoder hidden shape : torch.Size([1, 32, 100])\n",
            "Decoder output : torch.Size([32, 1, 100]), Decoder hidden shape :torch.Size([1, 32, 100])\n",
            "Encoder output : torch.Size([32, 10, 100]), Encoder hidden shape : torch.Size([1, 32, 100])\n",
            "Decoder output : torch.Size([32, 1, 100]), Decoder hidden shape :torch.Size([1, 32, 100])\n",
            "Encoder output : torch.Size([32, 31, 100]), Encoder hidden shape : torch.Size([1, 32, 100])\n",
            "Decoder output : torch.Size([32, 1, 100]), Decoder hidden shape :torch.Size([1, 32, 100])\n",
            "Encoder output : torch.Size([32, 33, 100]), Encoder hidden shape : torch.Size([1, 32, 100])\n",
            "Decoder output : torch.Size([32, 1, 100]), Decoder hidden shape :torch.Size([1, 32, 100])\n",
            "Encoder output : torch.Size([32, 21, 100]), Encoder hidden shape : torch.Size([1, 32, 100])\n",
            "Decoder output : torch.Size([32, 1, 100]), Decoder hidden shape :torch.Size([1, 32, 100])\n",
            "Encoder output : torch.Size([32, 23, 100]), Encoder hidden shape : torch.Size([1, 32, 100])\n",
            "Decoder output : torch.Size([32, 1, 100]), Decoder hidden shape :torch.Size([1, 32, 100])\n",
            "Encoder output : torch.Size([32, 27, 100]), Encoder hidden shape : torch.Size([1, 32, 100])\n",
            "Decoder output : torch.Size([32, 1, 100]), Decoder hidden shape :torch.Size([1, 32, 100])\n",
            "Encoder output : torch.Size([32, 12, 100]), Encoder hidden shape : torch.Size([1, 32, 100])\n",
            "Decoder output : torch.Size([32, 1, 100]), Decoder hidden shape :torch.Size([1, 32, 100])\n",
            "Encoder output : torch.Size([32, 28, 100]), Encoder hidden shape : torch.Size([1, 32, 100])\n",
            "Decoder output : torch.Size([32, 1, 100]), Decoder hidden shape :torch.Size([1, 32, 100])\n",
            "Encoder output : torch.Size([32, 19, 100]), Encoder hidden shape : torch.Size([1, 32, 100])\n",
            "Decoder output : torch.Size([32, 1, 100]), Decoder hidden shape :torch.Size([1, 32, 100])\n",
            "Encoder output : torch.Size([32, 29, 100]), Encoder hidden shape : torch.Size([1, 32, 100])\n",
            "Decoder output : torch.Size([32, 1, 100]), Decoder hidden shape :torch.Size([1, 32, 100])\n",
            "Encoder output : torch.Size([32, 13, 100]), Encoder hidden shape : torch.Size([1, 32, 100])\n",
            "Decoder output : torch.Size([32, 1, 100]), Decoder hidden shape :torch.Size([1, 32, 100])\n",
            "Encoder output : torch.Size([32, 18, 100]), Encoder hidden shape : torch.Size([1, 32, 100])\n",
            "Decoder output : torch.Size([32, 1, 100]), Decoder hidden shape :torch.Size([1, 32, 100])\n",
            "Encoder output : torch.Size([32, 23, 100]), Encoder hidden shape : torch.Size([1, 32, 100])\n",
            "Decoder output : torch.Size([32, 1, 100]), Decoder hidden shape :torch.Size([1, 32, 100])\n",
            "Encoder output : torch.Size([32, 27, 100]), Encoder hidden shape : torch.Size([1, 32, 100])\n",
            "Decoder output : torch.Size([32, 1, 100]), Decoder hidden shape :torch.Size([1, 32, 100])\n",
            "Encoder output : torch.Size([32, 31, 100]), Encoder hidden shape : torch.Size([1, 32, 100])\n",
            "Decoder output : torch.Size([32, 1, 100]), Decoder hidden shape :torch.Size([1, 32, 100])\n",
            "Encoder output : torch.Size([32, 42, 100]), Encoder hidden shape : torch.Size([1, 32, 100])\n",
            "Decoder output : torch.Size([32, 1, 100]), Decoder hidden shape :torch.Size([1, 32, 100])\n",
            "Encoder output : torch.Size([13, 42, 100]), Encoder hidden shape : torch.Size([1, 13, 100])\n",
            "Decoder output : torch.Size([13, 1, 100]), Decoder hidden shape :torch.Size([1, 13, 100])\n",
            "\tTrain Loss: 0.512 | Train Acc: 81.42%\n",
            "\t Val. Loss: 0.766 |  Val. Acc: 77.68% \n",
            "\n",
            "Encoder output : torch.Size([32, 29, 100]), Encoder hidden shape : torch.Size([1, 32, 100])\n",
            "Decoder output : torch.Size([32, 1, 100]), Decoder hidden shape :torch.Size([1, 32, 100])\n",
            "Encoder output : torch.Size([32, 25, 100]), Encoder hidden shape : torch.Size([1, 32, 100])\n",
            "Decoder output : torch.Size([32, 1, 100]), Decoder hidden shape :torch.Size([1, 32, 100])\n",
            "Encoder output : torch.Size([32, 16, 100]), Encoder hidden shape : torch.Size([1, 32, 100])\n",
            "Decoder output : torch.Size([32, 1, 100]), Decoder hidden shape :torch.Size([1, 32, 100])\n",
            "Encoder output : torch.Size([32, 35, 100]), Encoder hidden shape : torch.Size([1, 32, 100])\n",
            "Decoder output : torch.Size([32, 1, 100]), Decoder hidden shape :torch.Size([1, 32, 100])\n",
            "Encoder output : torch.Size([32, 42, 100]), Encoder hidden shape : torch.Size([1, 32, 100])\n",
            "Decoder output : torch.Size([32, 1, 100]), Decoder hidden shape :torch.Size([1, 32, 100])\n",
            "Encoder output : torch.Size([32, 8, 100]), Encoder hidden shape : torch.Size([1, 32, 100])\n",
            "Decoder output : torch.Size([32, 1, 100]), Decoder hidden shape :torch.Size([1, 32, 100])\n",
            "Encoder output : torch.Size([32, 42, 100]), Encoder hidden shape : torch.Size([1, 32, 100])\n",
            "Decoder output : torch.Size([32, 1, 100]), Decoder hidden shape :torch.Size([1, 32, 100])\n",
            "Encoder output : torch.Size([32, 26, 100]), Encoder hidden shape : torch.Size([1, 32, 100])\n",
            "Decoder output : torch.Size([32, 1, 100]), Decoder hidden shape :torch.Size([1, 32, 100])\n",
            "Encoder output : torch.Size([32, 37, 100]), Encoder hidden shape : torch.Size([1, 32, 100])\n",
            "Decoder output : torch.Size([32, 1, 100]), Decoder hidden shape :torch.Size([1, 32, 100])\n",
            "Encoder output : torch.Size([32, 10, 100]), Encoder hidden shape : torch.Size([1, 32, 100])\n",
            "Decoder output : torch.Size([32, 1, 100]), Decoder hidden shape :torch.Size([1, 32, 100])\n",
            "Encoder output : torch.Size([7, 45, 100]), Encoder hidden shape : torch.Size([1, 7, 100])\n",
            "Decoder output : torch.Size([7, 1, 100]), Decoder hidden shape :torch.Size([1, 7, 100])\n",
            "Encoder output : torch.Size([32, 22, 100]), Encoder hidden shape : torch.Size([1, 32, 100])\n",
            "Decoder output : torch.Size([32, 1, 100]), Decoder hidden shape :torch.Size([1, 32, 100])\n",
            "Encoder output : torch.Size([32, 12, 100]), Encoder hidden shape : torch.Size([1, 32, 100])\n",
            "Decoder output : torch.Size([32, 1, 100]), Decoder hidden shape :torch.Size([1, 32, 100])\n",
            "Encoder output : torch.Size([32, 18, 100]), Encoder hidden shape : torch.Size([1, 32, 100])\n",
            "Decoder output : torch.Size([32, 1, 100]), Decoder hidden shape :torch.Size([1, 32, 100])\n",
            "Encoder output : torch.Size([32, 33, 100]), Encoder hidden shape : torch.Size([1, 32, 100])\n",
            "Decoder output : torch.Size([32, 1, 100]), Decoder hidden shape :torch.Size([1, 32, 100])\n",
            "Encoder output : torch.Size([32, 17, 100]), Encoder hidden shape : torch.Size([1, 32, 100])\n",
            "Decoder output : torch.Size([32, 1, 100]), Decoder hidden shape :torch.Size([1, 32, 100])\n",
            "Encoder output : torch.Size([32, 32, 100]), Encoder hidden shape : torch.Size([1, 32, 100])\n",
            "Decoder output : torch.Size([32, 1, 100]), Decoder hidden shape :torch.Size([1, 32, 100])\n",
            "Encoder output : torch.Size([32, 27, 100]), Encoder hidden shape : torch.Size([1, 32, 100])\n",
            "Decoder output : torch.Size([32, 1, 100]), Decoder hidden shape :torch.Size([1, 32, 100])\n",
            "Encoder output : torch.Size([32, 30, 100]), Encoder hidden shape : torch.Size([1, 32, 100])\n",
            "Decoder output : torch.Size([32, 1, 100]), Decoder hidden shape :torch.Size([1, 32, 100])\n",
            "Encoder output : torch.Size([32, 42, 100]), Encoder hidden shape : torch.Size([1, 32, 100])\n",
            "Decoder output : torch.Size([32, 1, 100]), Decoder hidden shape :torch.Size([1, 32, 100])\n",
            "Encoder output : torch.Size([32, 27, 100]), Encoder hidden shape : torch.Size([1, 32, 100])\n",
            "Decoder output : torch.Size([32, 1, 100]), Decoder hidden shape :torch.Size([1, 32, 100])\n",
            "Encoder output : torch.Size([32, 23, 100]), Encoder hidden shape : torch.Size([1, 32, 100])\n",
            "Decoder output : torch.Size([32, 1, 100]), Decoder hidden shape :torch.Size([1, 32, 100])\n",
            "Encoder output : torch.Size([32, 28, 100]), Encoder hidden shape : torch.Size([1, 32, 100])\n",
            "Decoder output : torch.Size([32, 1, 100]), Decoder hidden shape :torch.Size([1, 32, 100])\n",
            "Encoder output : torch.Size([32, 31, 100]), Encoder hidden shape : torch.Size([1, 32, 100])\n",
            "Decoder output : torch.Size([32, 1, 100]), Decoder hidden shape :torch.Size([1, 32, 100])\n",
            "Encoder output : torch.Size([32, 12, 100]), Encoder hidden shape : torch.Size([1, 32, 100])\n",
            "Decoder output : torch.Size([32, 1, 100]), Decoder hidden shape :torch.Size([1, 32, 100])\n",
            "Encoder output : torch.Size([32, 16, 100]), Encoder hidden shape : torch.Size([1, 32, 100])\n",
            "Decoder output : torch.Size([32, 1, 100]), Decoder hidden shape :torch.Size([1, 32, 100])\n",
            "Encoder output : torch.Size([32, 25, 100]), Encoder hidden shape : torch.Size([1, 32, 100])\n",
            "Decoder output : torch.Size([32, 1, 100]), Decoder hidden shape :torch.Size([1, 32, 100])\n",
            "Encoder output : torch.Size([32, 24, 100]), Encoder hidden shape : torch.Size([1, 32, 100])\n",
            "Decoder output : torch.Size([32, 1, 100]), Decoder hidden shape :torch.Size([1, 32, 100])\n",
            "Encoder output : torch.Size([32, 15, 100]), Encoder hidden shape : torch.Size([1, 32, 100])\n",
            "Decoder output : torch.Size([32, 1, 100]), Decoder hidden shape :torch.Size([1, 32, 100])\n",
            "Encoder output : torch.Size([32, 28, 100]), Encoder hidden shape : torch.Size([1, 32, 100])\n",
            "Decoder output : torch.Size([32, 1, 100]), Decoder hidden shape :torch.Size([1, 32, 100])\n",
            "Encoder output : torch.Size([32, 29, 100]), Encoder hidden shape : torch.Size([1, 32, 100])\n",
            "Decoder output : torch.Size([32, 1, 100]), Decoder hidden shape :torch.Size([1, 32, 100])\n",
            "Encoder output : torch.Size([32, 21, 100]), Encoder hidden shape : torch.Size([1, 32, 100])\n",
            "Decoder output : torch.Size([32, 1, 100]), Decoder hidden shape :torch.Size([1, 32, 100])\n",
            "Encoder output : torch.Size([32, 21, 100]), Encoder hidden shape : torch.Size([1, 32, 100])\n",
            "Decoder output : torch.Size([32, 1, 100]), Decoder hidden shape :torch.Size([1, 32, 100])\n",
            "Encoder output : torch.Size([32, 31, 100]), Encoder hidden shape : torch.Size([1, 32, 100])\n",
            "Decoder output : torch.Size([32, 1, 100]), Decoder hidden shape :torch.Size([1, 32, 100])\n",
            "Encoder output : torch.Size([32, 13, 100]), Encoder hidden shape : torch.Size([1, 32, 100])\n",
            "Decoder output : torch.Size([32, 1, 100]), Decoder hidden shape :torch.Size([1, 32, 100])\n",
            "Encoder output : torch.Size([32, 19, 100]), Encoder hidden shape : torch.Size([1, 32, 100])\n",
            "Decoder output : torch.Size([32, 1, 100]), Decoder hidden shape :torch.Size([1, 32, 100])\n",
            "Encoder output : torch.Size([32, 20, 100]), Encoder hidden shape : torch.Size([1, 32, 100])\n",
            "Decoder output : torch.Size([32, 1, 100]), Decoder hidden shape :torch.Size([1, 32, 100])\n",
            "Encoder output : torch.Size([32, 13, 100]), Encoder hidden shape : torch.Size([1, 32, 100])\n",
            "Decoder output : torch.Size([32, 1, 100]), Decoder hidden shape :torch.Size([1, 32, 100])\n",
            "Encoder output : torch.Size([32, 18, 100]), Encoder hidden shape : torch.Size([1, 32, 100])\n",
            "Decoder output : torch.Size([32, 1, 100]), Decoder hidden shape :torch.Size([1, 32, 100])\n",
            "Encoder output : torch.Size([32, 23, 100]), Encoder hidden shape : torch.Size([1, 32, 100])\n",
            "Decoder output : torch.Size([32, 1, 100]), Decoder hidden shape :torch.Size([1, 32, 100])\n",
            "Encoder output : torch.Size([32, 27, 100]), Encoder hidden shape : torch.Size([1, 32, 100])\n",
            "Decoder output : torch.Size([32, 1, 100]), Decoder hidden shape :torch.Size([1, 32, 100])\n",
            "Encoder output : torch.Size([32, 31, 100]), Encoder hidden shape : torch.Size([1, 32, 100])\n",
            "Decoder output : torch.Size([32, 1, 100]), Decoder hidden shape :torch.Size([1, 32, 100])\n",
            "Encoder output : torch.Size([32, 42, 100]), Encoder hidden shape : torch.Size([1, 32, 100])\n",
            "Decoder output : torch.Size([32, 1, 100]), Decoder hidden shape :torch.Size([1, 32, 100])\n",
            "Encoder output : torch.Size([13, 42, 100]), Encoder hidden shape : torch.Size([1, 13, 100])\n",
            "Decoder output : torch.Size([13, 1, 100]), Decoder hidden shape :torch.Size([1, 13, 100])\n",
            "\tTrain Loss: 0.394 | Train Acc: 86.15%\n",
            "\t Val. Loss: 0.735 |  Val. Acc: 79.02% \n",
            "\n",
            "Encoder output : torch.Size([32, 25, 100]), Encoder hidden shape : torch.Size([1, 32, 100])\n",
            "Decoder output : torch.Size([32, 1, 100]), Decoder hidden shape :torch.Size([1, 32, 100])\n",
            "Encoder output : torch.Size([32, 35, 100]), Encoder hidden shape : torch.Size([1, 32, 100])\n",
            "Decoder output : torch.Size([32, 1, 100]), Decoder hidden shape :torch.Size([1, 32, 100])\n",
            "Encoder output : torch.Size([32, 20, 100]), Encoder hidden shape : torch.Size([1, 32, 100])\n",
            "Decoder output : torch.Size([32, 1, 100]), Decoder hidden shape :torch.Size([1, 32, 100])\n",
            "Encoder output : torch.Size([32, 30, 100]), Encoder hidden shape : torch.Size([1, 32, 100])\n",
            "Decoder output : torch.Size([32, 1, 100]), Decoder hidden shape :torch.Size([1, 32, 100])\n",
            "Encoder output : torch.Size([32, 25, 100]), Encoder hidden shape : torch.Size([1, 32, 100])\n",
            "Decoder output : torch.Size([32, 1, 100]), Decoder hidden shape :torch.Size([1, 32, 100])\n",
            "Encoder output : torch.Size([32, 42, 100]), Encoder hidden shape : torch.Size([1, 32, 100])\n",
            "Decoder output : torch.Size([32, 1, 100]), Decoder hidden shape :torch.Size([1, 32, 100])\n",
            "Encoder output : torch.Size([32, 27, 100]), Encoder hidden shape : torch.Size([1, 32, 100])\n",
            "Decoder output : torch.Size([32, 1, 100]), Decoder hidden shape :torch.Size([1, 32, 100])\n",
            "Encoder output : torch.Size([32, 13, 100]), Encoder hidden shape : torch.Size([1, 32, 100])\n",
            "Decoder output : torch.Size([32, 1, 100]), Decoder hidden shape :torch.Size([1, 32, 100])\n",
            "Encoder output : torch.Size([32, 10, 100]), Encoder hidden shape : torch.Size([1, 32, 100])\n",
            "Decoder output : torch.Size([32, 1, 100]), Decoder hidden shape :torch.Size([1, 32, 100])\n",
            "Encoder output : torch.Size([32, 27, 100]), Encoder hidden shape : torch.Size([1, 32, 100])\n",
            "Decoder output : torch.Size([32, 1, 100]), Decoder hidden shape :torch.Size([1, 32, 100])\n",
            "Encoder output : torch.Size([32, 24, 100]), Encoder hidden shape : torch.Size([1, 32, 100])\n",
            "Decoder output : torch.Size([32, 1, 100]), Decoder hidden shape :torch.Size([1, 32, 100])\n",
            "Encoder output : torch.Size([32, 28, 100]), Encoder hidden shape : torch.Size([1, 32, 100])\n",
            "Decoder output : torch.Size([32, 1, 100]), Decoder hidden shape :torch.Size([1, 32, 100])\n",
            "Encoder output : torch.Size([32, 33, 100]), Encoder hidden shape : torch.Size([1, 32, 100])\n",
            "Decoder output : torch.Size([32, 1, 100]), Decoder hidden shape :torch.Size([1, 32, 100])\n",
            "Encoder output : torch.Size([32, 23, 100]), Encoder hidden shape : torch.Size([1, 32, 100])\n",
            "Decoder output : torch.Size([32, 1, 100]), Decoder hidden shape :torch.Size([1, 32, 100])\n",
            "Encoder output : torch.Size([32, 31, 100]), Encoder hidden shape : torch.Size([1, 32, 100])\n",
            "Decoder output : torch.Size([32, 1, 100]), Decoder hidden shape :torch.Size([1, 32, 100])\n",
            "Encoder output : torch.Size([32, 12, 100]), Encoder hidden shape : torch.Size([1, 32, 100])\n",
            "Decoder output : torch.Size([32, 1, 100]), Decoder hidden shape :torch.Size([1, 32, 100])\n",
            "Encoder output : torch.Size([32, 42, 100]), Encoder hidden shape : torch.Size([1, 32, 100])\n",
            "Decoder output : torch.Size([32, 1, 100]), Decoder hidden shape :torch.Size([1, 32, 100])\n",
            "Encoder output : torch.Size([32, 19, 100]), Encoder hidden shape : torch.Size([1, 32, 100])\n",
            "Decoder output : torch.Size([32, 1, 100]), Decoder hidden shape :torch.Size([1, 32, 100])\n",
            "Encoder output : torch.Size([32, 37, 100]), Encoder hidden shape : torch.Size([1, 32, 100])\n",
            "Decoder output : torch.Size([32, 1, 100]), Decoder hidden shape :torch.Size([1, 32, 100])\n",
            "Encoder output : torch.Size([32, 8, 100]), Encoder hidden shape : torch.Size([1, 32, 100])\n",
            "Decoder output : torch.Size([32, 1, 100]), Decoder hidden shape :torch.Size([1, 32, 100])\n",
            "Encoder output : torch.Size([32, 12, 100]), Encoder hidden shape : torch.Size([1, 32, 100])\n",
            "Decoder output : torch.Size([32, 1, 100]), Decoder hidden shape :torch.Size([1, 32, 100])\n",
            "Encoder output : torch.Size([32, 42, 100]), Encoder hidden shape : torch.Size([1, 32, 100])\n",
            "Decoder output : torch.Size([32, 1, 100]), Decoder hidden shape :torch.Size([1, 32, 100])\n",
            "Encoder output : torch.Size([32, 22, 100]), Encoder hidden shape : torch.Size([1, 32, 100])\n",
            "Decoder output : torch.Size([32, 1, 100]), Decoder hidden shape :torch.Size([1, 32, 100])\n",
            "Encoder output : torch.Size([32, 21, 100]), Encoder hidden shape : torch.Size([1, 32, 100])\n",
            "Decoder output : torch.Size([32, 1, 100]), Decoder hidden shape :torch.Size([1, 32, 100])\n",
            "Encoder output : torch.Size([32, 29, 100]), Encoder hidden shape : torch.Size([1, 32, 100])\n",
            "Decoder output : torch.Size([32, 1, 100]), Decoder hidden shape :torch.Size([1, 32, 100])\n",
            "Encoder output : torch.Size([32, 15, 100]), Encoder hidden shape : torch.Size([1, 32, 100])\n",
            "Decoder output : torch.Size([32, 1, 100]), Decoder hidden shape :torch.Size([1, 32, 100])\n",
            "Encoder output : torch.Size([32, 32, 100]), Encoder hidden shape : torch.Size([1, 32, 100])\n",
            "Decoder output : torch.Size([32, 1, 100]), Decoder hidden shape :torch.Size([1, 32, 100])\n",
            "Encoder output : torch.Size([32, 29, 100]), Encoder hidden shape : torch.Size([1, 32, 100])\n",
            "Decoder output : torch.Size([32, 1, 100]), Decoder hidden shape :torch.Size([1, 32, 100])\n",
            "Encoder output : torch.Size([32, 16, 100]), Encoder hidden shape : torch.Size([1, 32, 100])\n",
            "Decoder output : torch.Size([32, 1, 100]), Decoder hidden shape :torch.Size([1, 32, 100])\n",
            "Encoder output : torch.Size([32, 31, 100]), Encoder hidden shape : torch.Size([1, 32, 100])\n",
            "Decoder output : torch.Size([32, 1, 100]), Decoder hidden shape :torch.Size([1, 32, 100])\n",
            "Encoder output : torch.Size([32, 18, 100]), Encoder hidden shape : torch.Size([1, 32, 100])\n",
            "Decoder output : torch.Size([32, 1, 100]), Decoder hidden shape :torch.Size([1, 32, 100])\n",
            "Encoder output : torch.Size([7, 45, 100]), Encoder hidden shape : torch.Size([1, 7, 100])\n",
            "Decoder output : torch.Size([7, 1, 100]), Decoder hidden shape :torch.Size([1, 7, 100])\n",
            "Encoder output : torch.Size([32, 28, 100]), Encoder hidden shape : torch.Size([1, 32, 100])\n",
            "Decoder output : torch.Size([32, 1, 100]), Decoder hidden shape :torch.Size([1, 32, 100])\n",
            "Encoder output : torch.Size([32, 17, 100]), Encoder hidden shape : torch.Size([1, 32, 100])\n",
            "Decoder output : torch.Size([32, 1, 100]), Decoder hidden shape :torch.Size([1, 32, 100])\n",
            "Encoder output : torch.Size([32, 21, 100]), Encoder hidden shape : torch.Size([1, 32, 100])\n",
            "Decoder output : torch.Size([32, 1, 100]), Decoder hidden shape :torch.Size([1, 32, 100])\n",
            "Encoder output : torch.Size([32, 26, 100]), Encoder hidden shape : torch.Size([1, 32, 100])\n",
            "Decoder output : torch.Size([32, 1, 100]), Decoder hidden shape :torch.Size([1, 32, 100])\n",
            "Encoder output : torch.Size([32, 16, 100]), Encoder hidden shape : torch.Size([1, 32, 100])\n",
            "Decoder output : torch.Size([32, 1, 100]), Decoder hidden shape :torch.Size([1, 32, 100])\n",
            "Encoder output : torch.Size([32, 13, 100]), Encoder hidden shape : torch.Size([1, 32, 100])\n",
            "Decoder output : torch.Size([32, 1, 100]), Decoder hidden shape :torch.Size([1, 32, 100])\n",
            "Encoder output : torch.Size([32, 18, 100]), Encoder hidden shape : torch.Size([1, 32, 100])\n",
            "Decoder output : torch.Size([32, 1, 100]), Decoder hidden shape :torch.Size([1, 32, 100])\n",
            "Encoder output : torch.Size([32, 23, 100]), Encoder hidden shape : torch.Size([1, 32, 100])\n",
            "Decoder output : torch.Size([32, 1, 100]), Decoder hidden shape :torch.Size([1, 32, 100])\n",
            "Encoder output : torch.Size([32, 27, 100]), Encoder hidden shape : torch.Size([1, 32, 100])\n",
            "Decoder output : torch.Size([32, 1, 100]), Decoder hidden shape :torch.Size([1, 32, 100])\n",
            "Encoder output : torch.Size([32, 31, 100]), Encoder hidden shape : torch.Size([1, 32, 100])\n",
            "Decoder output : torch.Size([32, 1, 100]), Decoder hidden shape :torch.Size([1, 32, 100])\n",
            "Encoder output : torch.Size([32, 42, 100]), Encoder hidden shape : torch.Size([1, 32, 100])\n",
            "Decoder output : torch.Size([32, 1, 100]), Decoder hidden shape :torch.Size([1, 32, 100])\n",
            "Encoder output : torch.Size([13, 42, 100]), Encoder hidden shape : torch.Size([1, 13, 100])\n",
            "Decoder output : torch.Size([13, 1, 100]), Decoder hidden shape :torch.Size([1, 13, 100])\n",
            "\tTrain Loss: 0.292 | Train Acc: 90.37%\n",
            "\t Val. Loss: 0.790 |  Val. Acc: 79.46% \n",
            "\n",
            "Encoder output : torch.Size([32, 42, 100]), Encoder hidden shape : torch.Size([1, 32, 100])\n",
            "Decoder output : torch.Size([32, 1, 100]), Decoder hidden shape :torch.Size([1, 32, 100])\n",
            "Encoder output : torch.Size([32, 15, 100]), Encoder hidden shape : torch.Size([1, 32, 100])\n",
            "Decoder output : torch.Size([32, 1, 100]), Decoder hidden shape :torch.Size([1, 32, 100])\n",
            "Encoder output : torch.Size([32, 42, 100]), Encoder hidden shape : torch.Size([1, 32, 100])\n",
            "Decoder output : torch.Size([32, 1, 100]), Decoder hidden shape :torch.Size([1, 32, 100])\n",
            "Encoder output : torch.Size([32, 12, 100]), Encoder hidden shape : torch.Size([1, 32, 100])\n",
            "Decoder output : torch.Size([32, 1, 100]), Decoder hidden shape :torch.Size([1, 32, 100])\n",
            "Encoder output : torch.Size([32, 22, 100]), Encoder hidden shape : torch.Size([1, 32, 100])\n",
            "Decoder output : torch.Size([32, 1, 100]), Decoder hidden shape :torch.Size([1, 32, 100])\n",
            "Encoder output : torch.Size([32, 27, 100]), Encoder hidden shape : torch.Size([1, 32, 100])\n",
            "Decoder output : torch.Size([32, 1, 100]), Decoder hidden shape :torch.Size([1, 32, 100])\n",
            "Encoder output : torch.Size([32, 16, 100]), Encoder hidden shape : torch.Size([1, 32, 100])\n",
            "Decoder output : torch.Size([32, 1, 100]), Decoder hidden shape :torch.Size([1, 32, 100])\n",
            "Encoder output : torch.Size([32, 29, 100]), Encoder hidden shape : torch.Size([1, 32, 100])\n",
            "Decoder output : torch.Size([32, 1, 100]), Decoder hidden shape :torch.Size([1, 32, 100])\n",
            "Encoder output : torch.Size([32, 29, 100]), Encoder hidden shape : torch.Size([1, 32, 100])\n",
            "Decoder output : torch.Size([32, 1, 100]), Decoder hidden shape :torch.Size([1, 32, 100])\n",
            "Encoder output : torch.Size([32, 17, 100]), Encoder hidden shape : torch.Size([1, 32, 100])\n",
            "Decoder output : torch.Size([32, 1, 100]), Decoder hidden shape :torch.Size([1, 32, 100])\n",
            "Encoder output : torch.Size([32, 33, 100]), Encoder hidden shape : torch.Size([1, 32, 100])\n",
            "Decoder output : torch.Size([32, 1, 100]), Decoder hidden shape :torch.Size([1, 32, 100])\n",
            "Encoder output : torch.Size([32, 10, 100]), Encoder hidden shape : torch.Size([1, 32, 100])\n",
            "Decoder output : torch.Size([32, 1, 100]), Decoder hidden shape :torch.Size([1, 32, 100])\n",
            "Encoder output : torch.Size([32, 31, 100]), Encoder hidden shape : torch.Size([1, 32, 100])\n",
            "Decoder output : torch.Size([32, 1, 100]), Decoder hidden shape :torch.Size([1, 32, 100])\n",
            "Encoder output : torch.Size([32, 28, 100]), Encoder hidden shape : torch.Size([1, 32, 100])\n",
            "Decoder output : torch.Size([32, 1, 100]), Decoder hidden shape :torch.Size([1, 32, 100])\n",
            "Encoder output : torch.Size([32, 27, 100]), Encoder hidden shape : torch.Size([1, 32, 100])\n",
            "Decoder output : torch.Size([32, 1, 100]), Decoder hidden shape :torch.Size([1, 32, 100])\n",
            "Encoder output : torch.Size([32, 16, 100]), Encoder hidden shape : torch.Size([1, 32, 100])\n",
            "Decoder output : torch.Size([32, 1, 100]), Decoder hidden shape :torch.Size([1, 32, 100])\n",
            "Encoder output : torch.Size([32, 32, 100]), Encoder hidden shape : torch.Size([1, 32, 100])\n",
            "Decoder output : torch.Size([32, 1, 100]), Decoder hidden shape :torch.Size([1, 32, 100])\n",
            "Encoder output : torch.Size([32, 18, 100]), Encoder hidden shape : torch.Size([1, 32, 100])\n",
            "Decoder output : torch.Size([32, 1, 100]), Decoder hidden shape :torch.Size([1, 32, 100])\n",
            "Encoder output : torch.Size([7, 45, 100]), Encoder hidden shape : torch.Size([1, 7, 100])\n",
            "Decoder output : torch.Size([7, 1, 100]), Decoder hidden shape :torch.Size([1, 7, 100])\n",
            "Encoder output : torch.Size([32, 21, 100]), Encoder hidden shape : torch.Size([1, 32, 100])\n",
            "Decoder output : torch.Size([32, 1, 100]), Decoder hidden shape :torch.Size([1, 32, 100])\n",
            "Encoder output : torch.Size([32, 26, 100]), Encoder hidden shape : torch.Size([1, 32, 100])\n",
            "Decoder output : torch.Size([32, 1, 100]), Decoder hidden shape :torch.Size([1, 32, 100])\n",
            "Encoder output : torch.Size([32, 21, 100]), Encoder hidden shape : torch.Size([1, 32, 100])\n",
            "Decoder output : torch.Size([32, 1, 100]), Decoder hidden shape :torch.Size([1, 32, 100])\n",
            "Encoder output : torch.Size([32, 28, 100]), Encoder hidden shape : torch.Size([1, 32, 100])\n",
            "Decoder output : torch.Size([32, 1, 100]), Decoder hidden shape :torch.Size([1, 32, 100])\n",
            "Encoder output : torch.Size([32, 19, 100]), Encoder hidden shape : torch.Size([1, 32, 100])\n",
            "Decoder output : torch.Size([32, 1, 100]), Decoder hidden shape :torch.Size([1, 32, 100])\n",
            "Encoder output : torch.Size([32, 20, 100]), Encoder hidden shape : torch.Size([1, 32, 100])\n",
            "Decoder output : torch.Size([32, 1, 100]), Decoder hidden shape :torch.Size([1, 32, 100])\n",
            "Encoder output : torch.Size([32, 25, 100]), Encoder hidden shape : torch.Size([1, 32, 100])\n",
            "Decoder output : torch.Size([32, 1, 100]), Decoder hidden shape :torch.Size([1, 32, 100])\n",
            "Encoder output : torch.Size([32, 8, 100]), Encoder hidden shape : torch.Size([1, 32, 100])\n",
            "Decoder output : torch.Size([32, 1, 100]), Decoder hidden shape :torch.Size([1, 32, 100])\n",
            "Encoder output : torch.Size([32, 31, 100]), Encoder hidden shape : torch.Size([1, 32, 100])\n",
            "Decoder output : torch.Size([32, 1, 100]), Decoder hidden shape :torch.Size([1, 32, 100])\n",
            "Encoder output : torch.Size([32, 13, 100]), Encoder hidden shape : torch.Size([1, 32, 100])\n",
            "Decoder output : torch.Size([32, 1, 100]), Decoder hidden shape :torch.Size([1, 32, 100])\n",
            "Encoder output : torch.Size([32, 37, 100]), Encoder hidden shape : torch.Size([1, 32, 100])\n",
            "Decoder output : torch.Size([32, 1, 100]), Decoder hidden shape :torch.Size([1, 32, 100])\n",
            "Encoder output : torch.Size([32, 42, 100]), Encoder hidden shape : torch.Size([1, 32, 100])\n",
            "Decoder output : torch.Size([32, 1, 100]), Decoder hidden shape :torch.Size([1, 32, 100])\n",
            "Encoder output : torch.Size([32, 24, 100]), Encoder hidden shape : torch.Size([1, 32, 100])\n",
            "Decoder output : torch.Size([32, 1, 100]), Decoder hidden shape :torch.Size([1, 32, 100])\n",
            "Encoder output : torch.Size([32, 35, 100]), Encoder hidden shape : torch.Size([1, 32, 100])\n",
            "Decoder output : torch.Size([32, 1, 100]), Decoder hidden shape :torch.Size([1, 32, 100])\n",
            "Encoder output : torch.Size([32, 12, 100]), Encoder hidden shape : torch.Size([1, 32, 100])\n",
            "Decoder output : torch.Size([32, 1, 100]), Decoder hidden shape :torch.Size([1, 32, 100])\n",
            "Encoder output : torch.Size([32, 25, 100]), Encoder hidden shape : torch.Size([1, 32, 100])\n",
            "Decoder output : torch.Size([32, 1, 100]), Decoder hidden shape :torch.Size([1, 32, 100])\n",
            "Encoder output : torch.Size([32, 30, 100]), Encoder hidden shape : torch.Size([1, 32, 100])\n",
            "Decoder output : torch.Size([32, 1, 100]), Decoder hidden shape :torch.Size([1, 32, 100])\n",
            "Encoder output : torch.Size([32, 23, 100]), Encoder hidden shape : torch.Size([1, 32, 100])\n",
            "Decoder output : torch.Size([32, 1, 100]), Decoder hidden shape :torch.Size([1, 32, 100])\n",
            "Encoder output : torch.Size([32, 13, 100]), Encoder hidden shape : torch.Size([1, 32, 100])\n",
            "Decoder output : torch.Size([32, 1, 100]), Decoder hidden shape :torch.Size([1, 32, 100])\n",
            "Encoder output : torch.Size([32, 18, 100]), Encoder hidden shape : torch.Size([1, 32, 100])\n",
            "Decoder output : torch.Size([32, 1, 100]), Decoder hidden shape :torch.Size([1, 32, 100])\n",
            "Encoder output : torch.Size([32, 23, 100]), Encoder hidden shape : torch.Size([1, 32, 100])\n",
            "Decoder output : torch.Size([32, 1, 100]), Decoder hidden shape :torch.Size([1, 32, 100])\n",
            "Encoder output : torch.Size([32, 27, 100]), Encoder hidden shape : torch.Size([1, 32, 100])\n",
            "Decoder output : torch.Size([32, 1, 100]), Decoder hidden shape :torch.Size([1, 32, 100])\n",
            "Encoder output : torch.Size([32, 31, 100]), Encoder hidden shape : torch.Size([1, 32, 100])\n",
            "Decoder output : torch.Size([32, 1, 100]), Decoder hidden shape :torch.Size([1, 32, 100])\n",
            "Encoder output : torch.Size([32, 42, 100]), Encoder hidden shape : torch.Size([1, 32, 100])\n",
            "Decoder output : torch.Size([32, 1, 100]), Decoder hidden shape :torch.Size([1, 32, 100])\n",
            "Encoder output : torch.Size([13, 42, 100]), Encoder hidden shape : torch.Size([1, 13, 100])\n",
            "Decoder output : torch.Size([13, 1, 100]), Decoder hidden shape :torch.Size([1, 13, 100])\n",
            "\tTrain Loss: 0.253 | Train Acc: 91.55%\n",
            "\t Val. Loss: 0.890 |  Val. Acc: 78.57% \n",
            "\n"
          ],
          "name": "stdout"
        }
      ]
    },
    {
      "cell_type": "markdown",
      "metadata": {
        "id": "LZgzB0ZkHVTI"
      },
      "source": [
        "## Model Testing"
      ]
    },
    {
      "cell_type": "code",
      "metadata": {
        "id": "aZZfnWo0abRx"
      },
      "source": [
        "#load weights and tokenizer\n",
        "\n",
        "path='./saved_weights.pt'\n",
        "model.load_state_dict(torch.load(path));\n",
        "model.eval();\n",
        "tokenizer_file = open('./tokenizer.pkl', 'rb')\n",
        "tokenizer = pickle.load(tokenizer_file)\n",
        "\n",
        "#inference \n",
        "\n",
        "import spacy\n",
        "nlp = spacy.load('en')\n",
        "\n",
        "def classify_tweet(tweet):\n",
        "    \n",
        "    categories = {0: \"Negative\", 1:\"Positive\", 2:\"Neutral\"}\n",
        "    \n",
        "    # tokenize the tweet \n",
        "    tokenized = [tok.text for tok in nlp.tokenizer(tweet)] \n",
        "    # convert to integer sequence using predefined tokenizer dictionary\n",
        "    indexed = [tokenizer[t] for t in tokenized]        \n",
        "    # compute no. of words        \n",
        "    length = [len(indexed)]\n",
        "    # convert to tensor                                    \n",
        "    tensor = torch.LongTensor(indexed).to(device)   \n",
        "    # reshape in form of batch, no. of words           \n",
        "    tensor = tensor.unsqueeze(1).T  \n",
        "    # convert to tensor                          \n",
        "    length_tensor = torch.LongTensor(length)\n",
        "    # Get the model prediction                  \n",
        "    prediction = model(tensor, length_tensor)\n",
        "\n",
        "    _, pred = torch.max(prediction, 1) \n",
        "    \n",
        "    return categories[pred.item()]"
      ],
      "execution_count": 139,
      "outputs": []
    },
    {
      "cell_type": "code",
      "metadata": {
        "id": "yTkHLEipIlM9",
        "colab": {
          "base_uri": "https://localhost:8080/",
          "height": 69
        },
        "outputId": "ed1bed0f-344d-487e-b3fc-c45a9f8688a6"
      },
      "source": [
        "classify_tweet(\"A valid explanation for why Trump won't let women on the golf course.\")"
      ],
      "execution_count": 140,
      "outputs": [
        {
          "output_type": "stream",
          "text": [
            "Encoder output : torch.Size([1, 15, 100]), Encoder hidden shape : torch.Size([1, 1, 100])\n",
            "Decoder output : torch.Size([1, 1, 100]), Decoder hidden shape :torch.Size([1, 1, 100])\n"
          ],
          "name": "stdout"
        },
        {
          "output_type": "execute_result",
          "data": {
            "application/vnd.google.colaboratory.intrinsic+json": {
              "type": "string"
            },
            "text/plain": [
              "'Positive'"
            ]
          },
          "metadata": {
            "tags": []
          },
          "execution_count": 140
        }
      ]
    },
    {
      "cell_type": "code",
      "metadata": {
        "id": "sIzXGEaLM_Iw"
      },
      "source": [
        ""
      ],
      "execution_count": 127,
      "outputs": []
    }
  ]
}