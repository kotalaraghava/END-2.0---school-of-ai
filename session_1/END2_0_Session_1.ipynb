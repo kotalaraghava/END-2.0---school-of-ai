{
  "nbformat": 4,
  "nbformat_minor": 0,
  "metadata": {
    "colab": {
      "name": "END2.0 Session 1.ipynb",
      "provenance": []
    },
    "kernelspec": {
      "name": "python3",
      "display_name": "Python 3"
    },
    "language_info": {
      "name": "python"
    }
  },
  "cells": [
    {
      "cell_type": "code",
      "metadata": {
        "colab": {
          "base_uri": "https://localhost:8080/"
        },
        "id": "GC_6PeobwwkH",
        "outputId": "24fa828f-8da5-466a-b090-a19ddb57b80a"
      },
      "source": [
        "import torch\n",
        "from torch.autograd import Variable\n",
        "import torch.nn as nn\n",
        "import torch.nn.functional as F\n",
        "import torch.optim as optim\n",
        "import numpy as np\n",
        "import matplotlib.pyplot as plt\n",
        "%matplotlib inline\n",
        "torch.manual_seed(2)"
      ],
      "execution_count": 1,
      "outputs": [
        {
          "output_type": "execute_result",
          "data": {
            "text/plain": [
              "<torch._C.Generator at 0x7f68cb24b8d0>"
            ]
          },
          "metadata": {
            "tags": []
          },
          "execution_count": 1
        }
      ]
    },
    {
      "cell_type": "code",
      "metadata": {
        "id": "bL64bMTkw2GP"
      },
      "source": [
        "X = torch.Tensor([[0,0], [0,1], [1,0], [1,1]])\n",
        "Y = torch.Tensor([0, 1, 1, 0]).view(-1,1)"
      ],
      "execution_count": 2,
      "outputs": []
    },
    {
      "cell_type": "code",
      "metadata": {
        "id": "aC82kEAIw3Wf"
      },
      "source": [
        "class XOR(nn.Module):\n",
        "    def __init__(self, input_dim = 2, output_dim=1):\n",
        "        super(XOR, self).__init__()\n",
        "        self.lin1 = nn.Linear(input_dim, 11)\n",
        "        self.lin2 = nn.Linear(11, output_dim, bias=False)\n",
        "    \n",
        "    def forward(self, x):\n",
        "        x = self.lin1(x)\n",
        "        x = F.tanh(x)\n",
        "        x = self.lin2(x)\n",
        "        # x = F.tanh(x)\n",
        "        return x"
      ],
      "execution_count": 6,
      "outputs": []
    },
    {
      "cell_type": "code",
      "metadata": {
        "colab": {
          "base_uri": "https://localhost:8080/"
        },
        "id": "8gQIQExYw65K",
        "outputId": "35440df5-464a-4e9f-be1b-ae567822dc68"
      },
      "source": [
        "model = XOR()\n",
        "print(model)\n",
        "from torchsummary import summary\n",
        "summary(model, (2,2))"
      ],
      "execution_count": 7,
      "outputs": [
        {
          "output_type": "stream",
          "text": [
            "XOR(\n",
            "  (lin1): Linear(in_features=2, out_features=11, bias=True)\n",
            "  (lin2): Linear(in_features=11, out_features=1, bias=False)\n",
            ")\n",
            "----------------------------------------------------------------\n",
            "        Layer (type)               Output Shape         Param #\n",
            "================================================================\n",
            "            Linear-1                [-1, 2, 11]              33\n",
            "            Linear-2                 [-1, 2, 1]              11\n",
            "================================================================\n",
            "Total params: 44\n",
            "Trainable params: 44\n",
            "Non-trainable params: 0\n",
            "----------------------------------------------------------------\n",
            "Input size (MB): 0.00\n",
            "Forward/backward pass size (MB): 0.00\n",
            "Params size (MB): 0.00\n",
            "Estimated Total Size (MB): 0.00\n",
            "----------------------------------------------------------------\n"
          ],
          "name": "stdout"
        },
        {
          "output_type": "stream",
          "text": [
            "/usr/local/lib/python3.7/dist-packages/torch/nn/functional.py:1698: UserWarning: nn.functional.tanh is deprecated. Use torch.tanh instead.\n",
            "  warnings.warn(\"nn.functional.tanh is deprecated. Use torch.tanh instead.\")\n"
          ],
          "name": "stderr"
        }
      ]
    },
    {
      "cell_type": "code",
      "metadata": {
        "id": "yeotEq19x6XF"
      },
      "source": [
        "def weights_init(model):\n",
        "    for m in model.modules():\n",
        "        if isinstance(m, nn.Linear):\n",
        "            # initialize the weight tensor, here we use a normal distribution\n",
        "            m.weight.data.normal_(0, 1)\n",
        "\n",
        "weights_init(model)"
      ],
      "execution_count": 8,
      "outputs": []
    },
    {
      "cell_type": "code",
      "metadata": {
        "id": "WrD_sNzLx78e"
      },
      "source": [
        "loss_func = nn.L1Loss()"
      ],
      "execution_count": 9,
      "outputs": []
    },
    {
      "cell_type": "code",
      "metadata": {
        "id": "-zvbrMd2x_lA"
      },
      "source": [
        "optimizer = optim.SGD(model.parameters(), lr=0.02, momentum=0.9)\n"
      ],
      "execution_count": 10,
      "outputs": []
    },
    {
      "cell_type": "code",
      "metadata": {
        "colab": {
          "base_uri": "https://localhost:8080/"
        },
        "id": "q7tWa3D7yA5X",
        "outputId": "5151c153-a1db-437b-c850-7949bd00684a"
      },
      "source": [
        "epochs = 2001\n",
        "steps = X.size(0)\n",
        "for i in range(epochs):\n",
        "    for j in range(steps):\n",
        "        data_point = np.random.randint(X.size(0))\n",
        "        x_var = Variable(X[data_point], requires_grad=False)\n",
        "        y_var = Variable(Y[data_point], requires_grad=False)\n",
        "        \n",
        "        optimizer.zero_grad()\n",
        "        y_hat = model(x_var)\n",
        "        loss = loss_func.forward(y_hat, y_var)\n",
        "        loss.backward()\n",
        "        optimizer.step()\n",
        "        \n",
        "    if i % 50 == 0:\n",
        "        print( \"Epoch: {0}, Loss: {1}, \".format(i, loss.data.numpy()))"
      ],
      "execution_count": 12,
      "outputs": [
        {
          "output_type": "stream",
          "text": [
            "/usr/local/lib/python3.7/dist-packages/torch/nn/functional.py:1698: UserWarning: nn.functional.tanh is deprecated. Use torch.tanh instead.\n",
            "  warnings.warn(\"nn.functional.tanh is deprecated. Use torch.tanh instead.\")\n"
          ],
          "name": "stderr"
        },
        {
          "output_type": "stream",
          "text": [
            "Epoch: 0, Loss: 0.20209860801696777, \n",
            "Epoch: 50, Loss: 0.06602352857589722, \n",
            "Epoch: 100, Loss: 0.110012948513031, \n",
            "Epoch: 150, Loss: 0.2157425880432129, \n",
            "Epoch: 200, Loss: 0.023546934127807617, \n",
            "Epoch: 250, Loss: 0.025240689516067505, \n",
            "Epoch: 300, Loss: 0.06476759910583496, \n",
            "Epoch: 350, Loss: 0.2886190414428711, \n",
            "Epoch: 400, Loss: 0.3267918825149536, \n",
            "Epoch: 450, Loss: 0.094212606549263, \n",
            "Epoch: 500, Loss: 0.11588335037231445, \n",
            "Epoch: 550, Loss: 0.15347331762313843, \n",
            "Epoch: 600, Loss: 0.2686368227005005, \n",
            "Epoch: 650, Loss: 0.047582000494003296, \n",
            "Epoch: 700, Loss: 0.22608932852745056, \n",
            "Epoch: 750, Loss: 0.24138668179512024, \n",
            "Epoch: 800, Loss: 0.028268754482269287, \n",
            "Epoch: 850, Loss: 0.007012903690338135, \n",
            "Epoch: 900, Loss: 0.6119054555892944, \n",
            "Epoch: 950, Loss: 0.4179238975048065, \n",
            "Epoch: 1000, Loss: 0.5496141910552979, \n",
            "Epoch: 1050, Loss: 0.0951794981956482, \n",
            "Epoch: 1100, Loss: 0.15104418992996216, \n",
            "Epoch: 1150, Loss: 0.16612713038921356, \n",
            "Epoch: 1200, Loss: 0.06661447882652283, \n",
            "Epoch: 1250, Loss: 0.1448546051979065, \n",
            "Epoch: 1300, Loss: 0.37784695625305176, \n",
            "Epoch: 1350, Loss: 0.00016391277313232422, \n",
            "Epoch: 1400, Loss: 0.14414864778518677, \n",
            "Epoch: 1450, Loss: 0.012234896421432495, \n",
            "Epoch: 1500, Loss: 0.036841392517089844, \n",
            "Epoch: 1550, Loss: 0.19791501760482788, \n",
            "Epoch: 1600, Loss: 0.23702895641326904, \n",
            "Epoch: 1650, Loss: 0.14283108711242676, \n",
            "Epoch: 1700, Loss: 0.2332451343536377, \n",
            "Epoch: 1750, Loss: 0.1696382761001587, \n",
            "Epoch: 1800, Loss: 0.00510898232460022, \n",
            "Epoch: 1850, Loss: 0.0037401914596557617, \n",
            "Epoch: 1900, Loss: 0.01538628339767456, \n",
            "Epoch: 1950, Loss: 0.046346068382263184, \n",
            "Epoch: 2000, Loss: 0.16198241710662842, \n"
          ],
          "name": "stdout"
        }
      ]
    },
    {
      "cell_type": "code",
      "metadata": {
        "id": "QV0dIdveyCRi"
      },
      "source": [
        ""
      ],
      "execution_count": null,
      "outputs": []
    }
  ]
}